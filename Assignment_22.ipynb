{
 "cells": [
  {
   "cell_type": "markdown",
   "id": "f219e930",
   "metadata": {},
   "source": [
    "#### 1. What is the result of the code, and explain?\n",
    "`>>> X = 'iNeuron'`\n",
    "\n",
    "`>>> def func():`\n",
    "\n",
    "`print(X)`\n",
    "\n",
    "`>>> func()`"
   ]
  },
  {
   "cell_type": "markdown",
   "id": "706961bb",
   "metadata": {},
   "source": [
    "**Ans:**"
   ]
  },
  {
   "cell_type": "markdown",
   "id": "2dd9950d",
   "metadata": {},
   "source": [
    "The Result of this code is `iNeuron`, it's because the function initially looks for the variable `X` in its local scope, But since there is no local variable `X`, it returns the value of global variable `X` ie `iNeuron`"
   ]
  },
  {
   "cell_type": "code",
   "execution_count": 1,
   "id": "84d7fee4",
   "metadata": {},
   "outputs": [
    {
     "name": "stdout",
     "output_type": "stream",
     "text": [
      "iNeuron\n"
     ]
    }
   ],
   "source": [
    "X= 'iNeuron'\n",
    "def func():\n",
    "    print(X)\n",
    "func()"
   ]
  },
  {
   "cell_type": "markdown",
   "id": "7193a532",
   "metadata": {},
   "source": [
    "#### 2. What is the result of the code, and explain?\n",
    "\n",
    "`>>> X = 'iNeuron'`\n",
    "\n",
    "`>>> def func():`\n",
    "\n",
    "`X = 'NI!'`\n",
    "\n",
    "`>>> func()`\n",
    "\n",
    "`>>> print(X)`"
   ]
  },
  {
   "cell_type": "markdown",
   "id": "3cb91b5c",
   "metadata": {},
   "source": [
    "**Ans**:"
   ]
  },
  {
   "cell_type": "markdown",
   "id": "bd0bb914",
   "metadata": {},
   "source": [
    "The Result of this code is `NI!`, because the function initially looks for the variable `X`in ita local scope if `X` is not  available then it checks for variable `X` in the global scope, Since here the `X` is present in the local scope.It prints the value `NI!`"
   ]
  },
  {
   "cell_type": "code",
   "execution_count": 2,
   "id": "3f3044c2",
   "metadata": {},
   "outputs": [
    {
     "name": "stdout",
     "output_type": "stream",
     "text": [
      "NI!\n"
     ]
    }
   ],
   "source": [
    "X ='iNeuron'\n",
    "def func():\n",
    "    X = 'NI!'\n",
    "    print(X)\n",
    "func()"
   ]
  },
  {
   "cell_type": "markdown",
   "id": "3e0f5f7b",
   "metadata": {},
   "source": [
    "#### 3. What does this code print, and why?\n",
    "`>>> X = 'iNeuron'`\n",
    "\n",
    "`>>> def func():`\n",
    "\n",
    "`X = 'NI'`\n",
    "\n",
    "`print(X)`\n",
    "\n",
    "`>>> func()`\n",
    "\n",
    "`>>> print(X)`"
   ]
  },
  {
   "cell_type": "markdown",
   "id": "ae7dcdaf",
   "metadata": {},
   "source": [
    "**Ans:**"
   ]
  },
  {
   "cell_type": "markdown",
   "id": "147e70cf",
   "metadata": {},
   "source": [
    "The output of the code is `NI` and `iNeuron`. `X=NI` is in the local scope of the function `func()` hence the function prints the `X` value as `NI`. X = `iNeuron` is the global scope. hence `prin(X)` prints output as `iNeuron`"
   ]
  },
  {
   "cell_type": "code",
   "execution_count": 3,
   "id": "6aaef8c0",
   "metadata": {},
   "outputs": [
    {
     "name": "stdout",
     "output_type": "stream",
     "text": [
      "NI\n",
      "iNeuron\n"
     ]
    }
   ],
   "source": [
    "X = 'iNeuron'\n",
    "def func():\n",
    "    X = 'NI'\n",
    "    print(X)\n",
    "func()\n",
    "print(X)"
   ]
  },
  {
   "cell_type": "markdown",
   "id": "4bdb53d8",
   "metadata": {},
   "source": [
    "#### 4. What output does this code produce? Why?\n",
    "\n",
    "`>>> X = 'iNeuron'`\n",
    "\n",
    "`>>> def func():`\n",
    "\n",
    "`global X`\n",
    "\n",
    "`X = 'NI'`\n",
    "\n",
    "`>>> func()`\n",
    "\n",
    "`>>> print(X)`"
   ]
  },
  {
   "cell_type": "markdown",
   "id": "f7c515f5",
   "metadata": {},
   "source": [
    "**Ans:**"
   ]
  },
  {
   "cell_type": "markdown",
   "id": "53877c2a",
   "metadata": {},
   "source": [
    "The output of the code is `NI` the global keyword allows a variable to be accessible in the current scope.Since we are using global keyword inside the function `func` it directly access the variable in `X` in global scope and changes its value to `NI` hence the output of the code is `NI`"
   ]
  },
  {
   "cell_type": "code",
   "execution_count": 4,
   "id": "64bddc16",
   "metadata": {},
   "outputs": [
    {
     "name": "stdout",
     "output_type": "stream",
     "text": [
      "NI\n"
     ]
    }
   ],
   "source": [
    "X = 'iNeuron'\n",
    "def func():\n",
    "    global X\n",
    "    X = 'NI'\n",
    "func()\n",
    "print(X)"
   ]
  },
  {
   "cell_type": "markdown",
   "id": "0d54322c",
   "metadata": {},
   "source": [
    "#### 5. What about this code—what’s the output, and why?\n",
    "\n",
    "`>>> X = 'iNeuron'`\n",
    "\n",
    "`>>> def func():`\n",
    "\n",
    "`X = 'NI'`\n",
    "\n",
    "`def nested():`\n",
    "\n",
    "`print(X)`\n",
    "\n",
    "`nested()`\n",
    "\n",
    "`>>> func()`\n",
    "\n",
    "`>>> X`"
   ]
  },
  {
   "cell_type": "markdown",
   "id": "a7ced0eb",
   "metadata": {},
   "source": [
    "**Ans:**"
   ]
  },
  {
   "cell_type": "markdown",
   "id": "277ac7ba",
   "metadata": {},
   "source": [
    "The output of the code is `NI`. The reason for this output is if a function wants to access a variable, if its not available in its localscope. it looks for the variable in its global scope. similarly here also function nested looks for variable X in its global scope. hence the output of the code is NI"
   ]
  },
  {
   "cell_type": "code",
   "execution_count": 5,
   "id": "69642a61",
   "metadata": {},
   "outputs": [
    {
     "name": "stdout",
     "output_type": "stream",
     "text": [
      "NI\n"
     ]
    },
    {
     "data": {
      "text/plain": [
       "'iNeuron'"
      ]
     },
     "execution_count": 5,
     "metadata": {},
     "output_type": "execute_result"
    }
   ],
   "source": [
    "X = 'iNeuron'\n",
    "def func():\n",
    "    X = 'NI'\n",
    "    def nested():\n",
    "        print(X)\n",
    "    nested()\n",
    "func()\n",
    "X"
   ]
  },
  {
   "cell_type": "markdown",
   "id": "8b058c8e",
   "metadata": {},
   "source": [
    "#### 6. How about this code: what is its output in Python 3, and explain?\n",
    "\n",
    "`>>> def func():`\n",
    "\n",
    "`X = 'NI'`\n",
    "\n",
    "`def nested():`\n",
    "\n",
    "`nonlocal X`\n",
    "\n",
    "`X = 'Spam'`\n",
    "\n",
    "`nested()`\n",
    "\n",
    "`print(X)`\n",
    "\n",
    "`>>> func()`"
   ]
  },
  {
   "cell_type": "markdown",
   "id": "1c012459",
   "metadata": {},
   "source": [
    "**Ans:**"
   ]
  },
  {
   "cell_type": "markdown",
   "id": "835151a2",
   "metadata": {},
   "source": [
    "The outout of the code is `Spam`. `nonlocal` keyword in python is used to declare a variable as not local. Hence the statement `X = \"Span\"` is modified in the global scope. hence the output of `print(X)` statement is `Spam`"
   ]
  },
  {
   "cell_type": "code",
   "execution_count": 6,
   "id": "18469bfd",
   "metadata": {},
   "outputs": [
    {
     "name": "stdout",
     "output_type": "stream",
     "text": [
      "Spam\n"
     ]
    }
   ],
   "source": [
    "def func():\n",
    "    X = 'NI'\n",
    "    def nested():\n",
    "        nonlocal X\n",
    "        X = 'Spam'\n",
    "    nested()\n",
    "    print(X)\n",
    "func()"
   ]
  },
  {
   "cell_type": "code",
   "execution_count": null,
   "id": "0d668402",
   "metadata": {},
   "outputs": [],
   "source": []
  }
 ],
 "metadata": {
  "kernelspec": {
   "display_name": "Python 3 (ipykernel)",
   "language": "python",
   "name": "python3"
  },
  "language_info": {
   "codemirror_mode": {
    "name": "ipython",
    "version": 3
   },
   "file_extension": ".py",
   "mimetype": "text/x-python",
   "name": "python",
   "nbconvert_exporter": "python",
   "pygments_lexer": "ipython3",
   "version": "3.9.7"
  }
 },
 "nbformat": 4,
 "nbformat_minor": 5
}
