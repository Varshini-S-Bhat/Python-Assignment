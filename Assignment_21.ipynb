{
 "cells": [
  {
   "cell_type": "markdown",
   "id": "36fe8d16",
   "metadata": {},
   "source": [
    "#### 1. Add the current date to the text file today.txt as a string."
   ]
  },
  {
   "cell_type": "markdown",
   "id": "1ed8624a",
   "metadata": {},
   "source": [
    "**Ans:**"
   ]
  },
  {
   "cell_type": "code",
   "execution_count": 4,
   "id": "6f606ab6",
   "metadata": {},
   "outputs": [
    {
     "name": "stdout",
     "output_type": "stream",
     "text": [
      "09-10-2022\n"
     ]
    }
   ],
   "source": [
    "import datetime\n",
    "\n",
    "file = open('today.txt','w')\n",
    "file.write(datetime.datetime.now().strftime(\"%d-%m-%Y\"))\n",
    "file.close()\n",
    "file =open('today.txt','r')\n",
    "print(file.read())\n",
    "file.close()"
   ]
  },
  {
   "cell_type": "markdown",
   "id": "dbda3b4e",
   "metadata": {},
   "source": [
    "#### 2. Read the text file today.txt into the string today_string"
   ]
  },
  {
   "cell_type": "markdown",
   "id": "101a21c1",
   "metadata": {},
   "source": [
    "**Ans:**"
   ]
  },
  {
   "cell_type": "code",
   "execution_count": 5,
   "id": "f479b9d7",
   "metadata": {},
   "outputs": [
    {
     "data": {
      "text/plain": [
       "'09-10-2022'"
      ]
     },
     "execution_count": 5,
     "metadata": {},
     "output_type": "execute_result"
    }
   ],
   "source": [
    "file = open(\"today.txt\",'r')\n",
    "today_string = file.read()\n",
    "today_string"
   ]
  },
  {
   "cell_type": "markdown",
   "id": "7dc73184",
   "metadata": {},
   "source": [
    "#### 3. Parse the date from today_string."
   ]
  },
  {
   "cell_type": "markdown",
   "id": "40e1bbae",
   "metadata": {},
   "source": [
    "**Ans:**"
   ]
  },
  {
   "cell_type": "code",
   "execution_count": 6,
   "id": "63dee5b0",
   "metadata": {},
   "outputs": [
    {
     "name": "stdout",
     "output_type": "stream",
     "text": [
      "2022-10-09 00:00:00\n"
     ]
    }
   ],
   "source": [
    "from datetime import datetime\n",
    "parsed_data = datetime.strptime(today_string,'%d-%m-%Y')\n",
    "print(parsed_data)"
   ]
  },
  {
   "cell_type": "markdown",
   "id": "de749e92",
   "metadata": {},
   "source": [
    "#### 4. List the files in your current directory"
   ]
  },
  {
   "cell_type": "markdown",
   "id": "57cd4277",
   "metadata": {},
   "source": [
    "**Ans:**"
   ]
  },
  {
   "cell_type": "code",
   "execution_count": 7,
   "id": "f939878f",
   "metadata": {},
   "outputs": [
    {
     "name": "stdout",
     "output_type": "stream",
     "text": [
      "1662308714565.png\n",
      "2.png\n",
      "3rdJulyResourceLink.docx\n",
      "7z2201-x64.exe\n",
      "AgentLogingReport.csv\n",
      "AgentPerformance.csv\n",
      "akshar.ttf\n",
      "AnyDesk.exe\n",
      "Assignment_10.docx\n",
      "Assignment_10.ipynb\n",
      "Assignment_11.docx\n",
      "Assignment_11.ipynb\n",
      "Assignment_12.docx\n",
      "Assignment_12.ipynb\n",
      "Assignment_13.docx\n",
      "Assignment_13.ipynb\n",
      "Assignment_14.docx\n",
      "Assignment_14.ipynb\n",
      "Assignment_15.docx\n",
      "Assignment_15.ipynb\n",
      "Assignment_16.docx\n",
      "Assignment_16.ipynb\n",
      "Assignment_17.docx\n",
      "Assignment_17.ipynb\n",
      "Assignment_18.docx\n",
      "Assignment_18.ipynb\n",
      "Assignment_19.docx\n",
      "Assignment_19.ipynb\n",
      "Assignment_20.docx\n",
      "Assignment_20.ipynb\n",
      "Assignment_21.docx\n",
      "Assignment_21.ipynb\n",
      "Assignment_23.docx\n",
      "Assignment_24.docx\n",
      "Assignment_25.docx\n",
      "Assignment_3 (1).docx\n",
      "Assignment_3.docx\n",
      "Assignment_4.docx\n",
      "Assignment_4.ipynb\n",
      "Assignment_5.docx\n",
      "Assignment_5.ipynb\n",
      "Assignment_6.docx\n",
      "Assignment_6.ipynb\n",
      "Assignment_7.docx\n",
      "Assignment_7.ipynb\n",
      "Assignment_8.docx\n",
      "Assignment_8.ipynb\n",
      "Assignment_9.docx\n",
      "Assignment_9.ipynb\n",
      "Atomic Habits.pdf\n",
      "Attribute DataSet.csv\n",
      "Attribute DataSet.xlsx\n",
      "Attribute DataSet1.csv\n",
      "Attribute DataSet2.csv\n",
      "bank-full - bank-full.csv\n",
      "books.csv\n",
      "books.db\n",
      "BraveBrowserSetup-UJW151.exe\n",
      "Capture.PNG\n",
      "Capture2.PNG\n",
      "Caste and Income certificates.docx\n",
      "CC_Statement_2022_09_04.pdf\n",
      "ChromeSetup.exe\n",
      "company_records.csv\n",
      "desktop.ini\n",
      "Dress Sales.csv\n",
      "Dress Sales.xlsx\n",
      "DressSales.csv\n",
      "Firefox Installer.exe\n",
      "FitBit data.csv\n",
      "FSDS.docx\n",
      "GeForce_Experience_v3.25.1.27.exe\n",
      "Gmail - Invoice_SLA066TC8653408,Purchased on_2022-09-28.pdf\n",
      "haberman.csv\n",
      "haberman.names\n",
      "hello.docx\n",
      "IMG-20220929-WA0041.jpg\n",
      "IMG-20220929-WA0042.jpg\n",
      "Job Applicant Details Form (1).xlsx\n",
      "Job Applicant Details Form.xlsx\n",
      "jpj.jpg\n",
      "mongodb (1).7z\n",
      "mongodb (1).txt\n",
      "mysql assignment.ipynb\n",
      "mysql-installer-community-8.0.30.0 (1).msi\n",
      "mysql-installer-community-8.0.30.0.msi\n",
      "mysql.7z\n",
      "New WinRAR archive.rar\n",
      "NortonNSDownloader.exe\n",
      "nudi-web-01-e-regular (1).zip\n",
      "nudi-web-01-e-regular.zip\n",
      "Numpy and basic of graph.ipynb\n",
      "Numpy.ipynb\n",
      "numpy_class2.ipynb\n",
      "Numpy_class_1.ipynb\n",
      "Online Movie Ticket Booking-Mern.docx\n",
      "Online Retail (1).xlsx\n",
      "Online Retail.xlsx\n",
      "online_retail_II (1).xlsx\n",
      "oops 3.txt\n",
      "pandas 3 class.ipynb\n",
      "pandas class 2.ipynb\n",
      "pandas class 3 - with task  (1).ipynb\n",
      "pandas class 3 - with task .ipynb\n",
      "Pandas_class_2.ipynb\n",
      "PHOTO.jpg\n",
      "pollution.csv\n",
      "pollution.names\n",
      "PrintChallanDetails.pdf\n",
      "PyQGISDeveloperCookbook.pdf\n",
      "python-3.10.6-amd64.exe\n",
      "Report.docx\n",
      "sales_data_final.csv\n",
      "sample-app.py\n",
      "samsung-a8-bundle-offer-may-june-22-tnc.pdf\n",
      "SIGN.jpg\n",
      "sql mongodb and git .txt\n",
      "Superstore_USA.xlsx\n",
      "test.json\n",
      "test.txt\n",
      "timeline.csv\n",
      "today.txt\n",
      "trial.txt\n",
      "Untitled.ipynb\n",
      "Untitled1.ipynb\n",
      "URL Table.txt\n",
      "xyz.zip\n",
      "zoo.py\n",
      "Zoom_cm_fo42pnktZ9vvrZo4_mAPsGorusMjaKnSsb-zPOLEIGzdsKdgH3Y-Iy@QkKwJ1B1RRVwfUOo_ka2697c0800ad4067_.exe\n",
      "~$signment_21.docx\n",
      "~$ಔಷಧಿ.docx\n",
      "Assignment_10-checkpoint.ipynb\n",
      "Assignment_11-checkpoint.ipynb\n",
      "Assignment_12-checkpoint.ipynb\n",
      "Assignment_13-checkpoint.ipynb\n",
      "Assignment_14-checkpoint.ipynb\n",
      "Assignment_15-checkpoint.ipynb\n",
      "Assignment_16-checkpoint.ipynb\n",
      "Assignment_17-checkpoint.ipynb\n",
      "Assignment_18-checkpoint.ipynb\n",
      "Assignment_19-checkpoint.ipynb\n",
      "Assignment_20-checkpoint.ipynb\n",
      "Assignment_21-checkpoint.ipynb\n",
      "Assignment_4-checkpoint.ipynb\n",
      "Assignment_5-checkpoint.ipynb\n",
      "Assignment_6-checkpoint.ipynb\n",
      "Assignment_7-checkpoint.ipynb\n",
      "Assignment_8-checkpoint.ipynb\n",
      "Assignment_9-checkpoint.ipynb\n",
      "mysql assignment-checkpoint.ipynb\n",
      "Numpy and basic of graph-checkpoint.ipynb\n",
      "Numpy-checkpoint.ipynb\n",
      "numpy_class2-checkpoint.ipynb\n",
      "Numpy_class_1-checkpoint.ipynb\n",
      "pandas 3 class-checkpoint.ipynb\n",
      "pandas class 2-checkpoint.ipynb\n",
      "pandas class 3 - with task -checkpoint.ipynb\n",
      "Pandas_class_2-checkpoint.ipynb\n",
      "Untitled-checkpoint.ipynb\n",
      "Untitled1-checkpoint.ipynb\n",
      "Attribute DataSet.xlsx\n",
      "Dress Sales.xlsx\n",
      "haberman.csv\n",
      "haberman.names\n",
      "Online Retail (1).xlsx\n",
      "Online Retail.xlsx\n",
      "online_retail_II (1).xlsx\n",
      "pollution.csv\n",
      "pollution.names\n",
      "URL Table.txt\n",
      "1st page.pdf\n",
      "2nd page.pdf\n",
      "download.jfif (1).jpg\n",
      "final 1.docx\n",
      "final_2nd page.pdf\n",
      "Hospital letterhead template -2.docx\n",
      "Hospital-letterhead-template-2.zip\n",
      "images.png\n",
      "iss_15187_13038.jpg\n",
      "page1.pdf\n",
      "page2.pdf\n",
      "sample_1.pdf\n",
      "sample_2.pdf\n",
      "sample_3.pdf\n",
      "main.py\n",
      "test.py\n",
      "test3.py\n",
      "tset1.py\n",
      ".gitignore\n",
      "misc.xml\n",
      "modules.xml\n",
      "mongodb.iml\n",
      "workspace.xml\n",
      "profiles_settings.xml\n",
      "Project_Default.xml\n",
      "main.py\n",
      "test1.py\n",
      "test2.py\n",
      "test3.py\n",
      ".gitignore\n",
      "misc.xml\n",
      "modules.xml\n",
      "mysql.iml\n",
      "workspace.xml\n",
      "profiles_settings.xml\n",
      "Project_Default.xml\n",
      "Nudi web 01 e Regular.ttf\n",
      "readme.html\n",
      "Assignment-checkpoint.ipynb\n",
      "Assignment1.ipynb\n",
      "Assignment_1.ipynb\n",
      "Assignment_2.ipynb\n",
      "For loop assignment_3.ipynb\n",
      "while loop and basic of function  (1).ipynb\n",
      "while loop and basic of function .ipynb\n",
      "while loop.ipynb\n",
      "main.py\n",
      "test1.py\n",
      "test2.py\n",
      "test3.py\n",
      "test4.py\n",
      "test5.py\n",
      "test6.py\n",
      "test7.py\n",
      ".gitignore\n",
      "misc.xml\n",
      "modules.xml\n",
      "oops_class3.iml\n",
      "workspace.xml\n",
      "profiles_settings.xml\n",
      "zoo.cpython-39.pyc\n"
     ]
    }
   ],
   "source": [
    "import os\n",
    "for folders, subfolder, files in os.walk(os.getcwd()):\n",
    "    for file in files:\n",
    "        print(file)"
   ]
  },
  {
   "cell_type": "markdown",
   "id": "74203e5c",
   "metadata": {},
   "source": [
    "#### 5. Create a list of all of the files in your parent directory (minimum five files should be available)."
   ]
  },
  {
   "cell_type": "markdown",
   "id": "90eae129",
   "metadata": {},
   "source": [
    "**Ans:**"
   ]
  },
  {
   "cell_type": "code",
   "execution_count": 8,
   "id": "18286de7",
   "metadata": {},
   "outputs": [
    {
     "data": {
      "text/plain": [
       "['.ipynb_checkpoints',\n",
       " '1662308714565.png',\n",
       " '2.png',\n",
       " '3rdJulyResourceLink.docx',\n",
       " '7z2201-x64.exe',\n",
       " 'AgentLogingReport.csv',\n",
       " 'AgentPerformance.csv',\n",
       " 'akshar.ttf',\n",
       " 'AnyDesk.exe',\n",
       " 'Assignment_10.docx',\n",
       " 'Assignment_10.ipynb',\n",
       " 'Assignment_11.docx',\n",
       " 'Assignment_11.ipynb',\n",
       " 'Assignment_12.docx',\n",
       " 'Assignment_12.ipynb',\n",
       " 'Assignment_13.docx',\n",
       " 'Assignment_13.ipynb',\n",
       " 'Assignment_14.docx',\n",
       " 'Assignment_14.ipynb',\n",
       " 'Assignment_15.docx',\n",
       " 'Assignment_15.ipynb',\n",
       " 'Assignment_16.docx',\n",
       " 'Assignment_16.ipynb',\n",
       " 'Assignment_17.docx',\n",
       " 'Assignment_17.ipynb',\n",
       " 'Assignment_18.docx',\n",
       " 'Assignment_18.ipynb',\n",
       " 'Assignment_19.docx',\n",
       " 'Assignment_19.ipynb',\n",
       " 'Assignment_20.docx',\n",
       " 'Assignment_20.ipynb',\n",
       " 'Assignment_21.docx',\n",
       " 'Assignment_21.ipynb',\n",
       " 'Assignment_23.docx',\n",
       " 'Assignment_24.docx',\n",
       " 'Assignment_25.docx',\n",
       " 'Assignment_3 (1).docx',\n",
       " 'Assignment_3.docx',\n",
       " 'Assignment_4.docx',\n",
       " 'Assignment_4.ipynb',\n",
       " 'Assignment_5.docx',\n",
       " 'Assignment_5.ipynb',\n",
       " 'Assignment_6.docx',\n",
       " 'Assignment_6.ipynb',\n",
       " 'Assignment_7.docx',\n",
       " 'Assignment_7.ipynb',\n",
       " 'Assignment_8.docx',\n",
       " 'Assignment_8.ipynb',\n",
       " 'Assignment_9.docx',\n",
       " 'Assignment_9.ipynb',\n",
       " 'Atomic Habits.pdf',\n",
       " 'Attribute DataSet.csv',\n",
       " 'Attribute DataSet.xlsx',\n",
       " 'Attribute DataSet1.csv',\n",
       " 'Attribute DataSet2.csv',\n",
       " 'bank-full - bank-full.csv',\n",
       " 'books.csv',\n",
       " 'books.db',\n",
       " 'BraveBrowserSetup-UJW151.exe',\n",
       " 'Capture.PNG',\n",
       " 'Capture2.PNG',\n",
       " 'Caste and Income certificates.docx',\n",
       " 'CC_Statement_2022_09_04.pdf',\n",
       " 'ChromeSetup.exe',\n",
       " 'company_records.csv',\n",
       " 'data fsds_',\n",
       " 'desktop.ini',\n",
       " 'Dress Sales.csv',\n",
       " 'Dress Sales.xlsx',\n",
       " 'DressSales.csv',\n",
       " 'Firefox Installer.exe',\n",
       " 'FitBit data.csv',\n",
       " 'FSDS.docx',\n",
       " 'GeForce_Experience_v3.25.1.27.exe',\n",
       " 'Gmail - Invoice_SLA066TC8653408,Purchased on_2022-09-28.pdf',\n",
       " 'haberman.csv',\n",
       " 'haberman.names',\n",
       " 'hello.docx',\n",
       " 'Hospital-letterhead-template-2',\n",
       " 'IMG-20220929-WA0041.jpg',\n",
       " 'IMG-20220929-WA0042.jpg',\n",
       " 'Job Applicant Details Form (1).xlsx',\n",
       " 'Job Applicant Details Form.xlsx',\n",
       " 'jpj.jpg',\n",
       " 'mongodb (1)',\n",
       " 'mongodb (1).7z',\n",
       " 'mongodb (1).txt',\n",
       " 'mysql',\n",
       " 'mysql assignment.ipynb',\n",
       " 'mysql-installer-community-8.0.30.0 (1).msi',\n",
       " 'mysql-installer-community-8.0.30.0.msi',\n",
       " 'mysql.7z',\n",
       " 'New WinRAR archive.rar',\n",
       " 'NortonNSDownloader.exe',\n",
       " 'nudi-web-01-e-regular',\n",
       " 'nudi-web-01-e-regular (1).zip',\n",
       " 'nudi-web-01-e-regular.zip',\n",
       " 'Numpy and basic of graph.ipynb',\n",
       " 'Numpy.ipynb',\n",
       " 'numpy_class2.ipynb',\n",
       " 'Numpy_class_1.ipynb',\n",
       " 'old',\n",
       " 'Online Movie Ticket Booking-Mern.docx',\n",
       " 'Online Retail (1).xlsx',\n",
       " 'Online Retail.xlsx',\n",
       " 'online_retail_II (1).xlsx',\n",
       " 'oops 3.txt',\n",
       " 'oops_class3',\n",
       " 'pandas 3 class.ipynb',\n",
       " 'pandas class 2.ipynb',\n",
       " 'pandas class 3 - with task  (1).ipynb',\n",
       " 'pandas class 3 - with task .ipynb',\n",
       " 'Pandas_class_2.ipynb',\n",
       " 'PHOTO.jpg',\n",
       " 'pollution.csv',\n",
       " 'pollution.names',\n",
       " 'PrintChallanDetails.pdf',\n",
       " 'PyQGISDeveloperCookbook.pdf',\n",
       " 'python-3.10.6-amd64.exe',\n",
       " 'Report.docx',\n",
       " 'sales_data_final.csv',\n",
       " 'sample-app.py',\n",
       " 'samsung-a8-bundle-offer-may-june-22-tnc.pdf',\n",
       " 'SIGN.jpg',\n",
       " 'sql mongodb and git .txt',\n",
       " 'Superstore_USA.xlsx',\n",
       " 'test.json',\n",
       " 'test.txt',\n",
       " 'timeline.csv',\n",
       " 'today.txt',\n",
       " 'trial.txt',\n",
       " 'Untitled.ipynb',\n",
       " 'Untitled1.ipynb',\n",
       " 'URL Table.txt',\n",
       " 'xyz.zip',\n",
       " 'zoo.py',\n",
       " 'Zoom_cm_fo42pnktZ9vvrZo4_mAPsGorusMjaKnSsb-zPOLEIGzdsKdgH3Y-Iy@QkKwJ1B1RRVwfUOo_ka2697c0800ad4067_.exe',\n",
       " '__pycache__',\n",
       " '~$signment_21.docx',\n",
       " '~$ಔಷಧಿ.docx']"
      ]
     },
     "execution_count": 8,
     "metadata": {},
     "output_type": "execute_result"
    }
   ],
   "source": [
    "import os\n",
    "os.listdir()"
   ]
  },
  {
   "cell_type": "markdown",
   "id": "eee04e28",
   "metadata": {},
   "source": [
    "#### 6. Use multiprocessing to create three separate processes. Make each one wait a random number of seconds between one and five, print the current time, and then exit."
   ]
  },
  {
   "cell_type": "markdown",
   "id": "00682aef",
   "metadata": {},
   "source": [
    "**Ans:**"
   ]
  },
  {
   "cell_type": "code",
   "execution_count": 5,
   "id": "11920b18",
   "metadata": {},
   "outputs": [],
   "source": [
    "import multiprocessing\n",
    "import time\n",
    "import random\n",
    "import datetime\n",
    "\n",
    "\n",
    "def proceone():\n",
    "    print(f'Process One starttime -> {datetime.datetime.now()}')\n",
    "    time.sleep(random.randint(1,5))\n",
    "    print(f'Process One endtime -> {datetime.datetime.now()}')\n",
    "    \n",
    "def procetwo():\n",
    "    print(f'Process Two Starttime -> {datetime.datetime.now()}')\n",
    "    time.sleep(random.randint(1,5))\n",
    "    print(f'Process Two Endtime -> {datetime.datetime.now()}')\n",
    "    \n",
    "def procethree():\n",
    "    print(f'Process Three Starttime -> {datetime.datetime.now()}')\n",
    "    time.sleep(random.randint(1,5))\n",
    "    print(f'Process Three Endtime -> {datetime.datetime.now()}')\n",
    "    \n",
    "if __name__ == \"__main__\":\n",
    "    p1 = multiprocessing.Process(target = proceone)\n",
    "    p2 = multiprocessing.Process(target = procetwo)\n",
    "    p3 = multiprocessing.Process(target = procethree)\n",
    "    \n",
    "    p1.start()\n",
    "    p2.start()\n",
    "    p3.start()\n",
    "\n",
    "\n",
    "    p1.join()\n",
    "    p2.join()\n",
    "    p3.join()"
   ]
  },
  {
   "cell_type": "markdown",
   "id": "92c5424d",
   "metadata": {},
   "source": [
    "Due to some unknown reason. the above did not print any results in the jupyter cell. so i copied the code to a python file. executed it and pasted the ouput here\n",
    "\n",
    "`C:/Users/Prashant/Documents/proce.py`\n",
    "\n",
    "`Process One starttime -> 2022-10-09 13:34:05.499651`\n",
    "\n",
    "`Process Two Starttime -> 2022-10-09 13:34:05.502642`\n",
    "\n",
    "`Process Three Starttime -> 2022-10-09 13:34:05.504637`\n",
    "\n",
    "`Process Three Endtime -> 2022-10-09 13:34:08.517896`\n",
    "\n",
    "`Process Two Endtime -> 2022-10-09 13:34:08.517896`\n",
    "\n",
    "`Process One endtime -> 2022-10-09 13:34:09.511895`"
   ]
  },
  {
   "cell_type": "markdown",
   "id": "b5945ad1",
   "metadata": {},
   "source": [
    "#### 7. Create a date object of your day of birth."
   ]
  },
  {
   "cell_type": "markdown",
   "id": "eb25d031",
   "metadata": {},
   "source": [
    "**Ans:**"
   ]
  },
  {
   "cell_type": "code",
   "execution_count": 6,
   "id": "dd508dd3",
   "metadata": {},
   "outputs": [
    {
     "name": "stdout",
     "output_type": "stream",
     "text": [
      "1995-04-14 00:00:00 <class 'datetime.datetime'>\n"
     ]
    }
   ],
   "source": [
    "from datetime import datetime\n",
    "my_dob = datetime.strptime('14/04/1995','%d/%m/%Y')\n",
    "print(my_dob,type(my_dob))"
   ]
  },
  {
   "cell_type": "markdown",
   "id": "ec0e62ca",
   "metadata": {},
   "source": [
    "#### 8. What day of the week was your day of birth?"
   ]
  },
  {
   "cell_type": "markdown",
   "id": "76e8efed",
   "metadata": {},
   "source": [
    "**Ans:**"
   ]
  },
  {
   "cell_type": "code",
   "execution_count": 7,
   "id": "20356671",
   "metadata": {},
   "outputs": [
    {
     "data": {
      "text/plain": [
       "'Friday'"
      ]
     },
     "execution_count": 7,
     "metadata": {},
     "output_type": "execute_result"
    }
   ],
   "source": [
    "my_dob.strftime(\"%A\")"
   ]
  },
  {
   "cell_type": "markdown",
   "id": "8e1bc738",
   "metadata": {},
   "source": [
    "#### 9. When will you be (or when were you) 10,000 days old?"
   ]
  },
  {
   "cell_type": "markdown",
   "id": "96efe56d",
   "metadata": {},
   "source": [
    "**Ans:**"
   ]
  },
  {
   "cell_type": "code",
   "execution_count": 10,
   "id": "84d093bd",
   "metadata": {},
   "outputs": [
    {
     "data": {
      "text/plain": [
       "datetime.datetime(2022, 8, 30, 0, 0)"
      ]
     },
     "execution_count": 10,
     "metadata": {},
     "output_type": "execute_result"
    }
   ],
   "source": [
    "from datetime import datetime, timedelta\n",
    "future_date = my_dob+timedelta(10000)\n",
    "future_date"
   ]
  }
 ],
 "metadata": {
  "kernelspec": {
   "display_name": "Python 3 (ipykernel)",
   "language": "python",
   "name": "python3"
  },
  "language_info": {
   "codemirror_mode": {
    "name": "ipython",
    "version": 3
   },
   "file_extension": ".py",
   "mimetype": "text/x-python",
   "name": "python",
   "nbconvert_exporter": "python",
   "pygments_lexer": "ipython3",
   "version": "3.9.12"
  }
 },
 "nbformat": 4,
 "nbformat_minor": 5
}
