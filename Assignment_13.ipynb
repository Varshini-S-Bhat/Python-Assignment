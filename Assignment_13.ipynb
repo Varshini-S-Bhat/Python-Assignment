{
 "cells": [
  {
   "cell_type": "markdown",
   "id": "3a7f5857",
   "metadata": {},
   "source": [
    "#### 1. What advantages do Excel spreadsheets have over CSV spreadsheets?"
   ]
  },
  {
   "cell_type": "markdown",
   "id": "2990d52e",
   "metadata": {},
   "source": [
    "**Ans:** \n",
    "\n",
    "The Advantages of Excel over CSV are:\n",
    "\n",
    "1.Excel (XLS and XLSX) file formats are better for storing and analysis complex data.\n",
    "\n",
    "2.An Excel not only stores data but also do operations on the data using macros, formulas etc.\n",
    "\n",
    "3.CSV files are plain-text files, Does not contain formatting, formulas, macros etc. It is also known as flat files."
   ]
  },
  {
   "cell_type": "markdown",
   "id": "f4ba1e7f",
   "metadata": {},
   "source": [
    "#### 2.What do you pass to csv.reader() and csv.writer() to create reader and writer objects?"
   ]
  },
  {
   "cell_type": "code",
   "execution_count": 4,
   "id": "8aa0c1be",
   "metadata": {},
   "outputs": [],
   "source": [
    "import csv\n",
    "\n",
    "myData = [[1, 2, 3],['Good Morning', 'Good Evening', 'Good Afternoon']]\n",
    "myFile = open('timeline.csv', 'w')\n",
    "with myFile:\n",
    "   writer = csv.writer(myFile)\n",
    "   writer.writerows(myData)"
   ]
  },
  {
   "cell_type": "code",
   "execution_count": 5,
   "id": "ae6b5ced",
   "metadata": {},
   "outputs": [
    {
     "name": "stdout",
     "output_type": "stream",
     "text": [
      "['1', '2', '3']\n",
      "[]\n",
      "['Good Morning', 'Good Evening', 'Good Afternoon']\n",
      "[]\n"
     ]
    }
   ],
   "source": [
    "import csv\n",
    "with open('timeline.csv','r') as file:\n",
    "    csv_file = csv.reader(file,delimiter=',')\n",
    "    for ele in csv_file:\n",
    "        print(ele)"
   ]
  },
  {
   "cell_type": "markdown",
   "id": "89b736da",
   "metadata": {},
   "source": [
    "#### 3. What modes do File objects for reader and writer objects need to be opened in?"
   ]
  },
  {
   "cell_type": "markdown",
   "id": "ce63e0c1",
   "metadata": {},
   "source": [
    "**Ans:** For `csv.reader(iterable_file_object)` the file objectd needed to be opened in `read` mode `mode='r'` Whereas for `csv.writer(iterable_file_object)` the file objects needed to be opened in `write` mode `mode='w'`"
   ]
  },
  {
   "cell_type": "markdown",
   "id": "77f754e5",
   "metadata": {},
   "source": [
    "#### 4. What method takes a list argument and writes it to a CSV file?"
   ]
  },
  {
   "cell_type": "markdown",
   "id": "db056902",
   "metadata": {},
   "source": [
    "**Ans:** `csv.writer` class provides two methods for writing to csv. They are `writerow()` and `writerows()`. `writerow()` method writes a single row at a time. Whereas `writerows()` method is used to write multiple rows at a time."
   ]
  },
  {
   "cell_type": "code",
   "execution_count": 6,
   "id": "58850221",
   "metadata": {},
   "outputs": [],
   "source": [
    "import csv\n",
    "\n",
    "# colum names\n",
    "fields = ['Name','Dept','ID','Date_of_join'] \n",
    "\n",
    "# data rows for file\n",
    "\n",
    "rows = [['Abc','IT','123','01-02-2003'],\n",
    "        ['Def','Admin','456','04-05-2006'],\n",
    "        ['Ghi','GIS','789','07-08-2009']\n",
    "]\n",
    "with open(\"company_records.csv\",'w') as csvfile:\n",
    "    # creating a csv writer object\n",
    "    csvwriter = csv.writer(csvfile)\n",
    "    # writing the field\n",
    "    csvwriter.writerow(fields)\n",
    "    # writing the row data\n",
    "    csvwriter.writerow(rows)"
   ]
  },
  {
   "cell_type": "markdown",
   "id": "ddb7731f",
   "metadata": {},
   "source": [
    "#### 5. What do the keyword arguments delimiter and line terminator do?"
   ]
  },
  {
   "cell_type": "markdown",
   "id": "0409a9d7",
   "metadata": {},
   "source": [
    "**Ans:**\n",
    "\n",
    "`delimiter` specifies the character used to separate each field. The default is the comma (`','`). We can use any Character as per our needs if required.\n",
    "\n",
    "Line `Terminator` comes at end of line by default it is newline and can be changed accourding to Requirement."
   ]
  },
  {
   "cell_type": "markdown",
   "id": "eca62cb5",
   "metadata": {},
   "source": [
    "#### 6. What function takes a string of JSON data and returns a Python data structure?"
   ]
  },
  {
   "cell_type": "markdown",
   "id": "f17f2535",
   "metadata": {},
   "source": [
    "**Ans:** `loads()` method takes a string of JSON data and returns a Python Data structure."
   ]
  },
  {
   "cell_type": "code",
   "execution_count": 13,
   "id": "b141ddb9",
   "metadata": {},
   "outputs": [
    {
     "name": "stdout",
     "output_type": "stream",
     "text": [
      "{\n",
      "    \"Name\":\"Unkown name\",\n",
      "    \"Dept\":\"GIS\",\n",
      "    \"ID\":\"5WD18CGI\"\n",
      "}\n",
      "Type of sub_details is :- <class 'str'>\n",
      "{'Name': 'Unkown name', 'Dept': 'GIS', 'ID': '5WD18CGI'}\n",
      "Type of details is:- <class 'dict'>\n"
     ]
    }
   ],
   "source": [
    "import json\n",
    "sub_details= '''{\n",
    "    \"Name\":\"Unkown name\",\n",
    "    \"Dept\":\"GIS\",\n",
    "    \"ID\":\"5WD18CGI\"\n",
    "}'''\n",
    "\n",
    "print(sub_details)\n",
    "print(f'Type of sub_details is :- {type(sub_details)}')\n",
    "details = json.loads(sub_details)\n",
    "print(details)\n",
    "print(f'Type of details is:- {type(details)}')\n"
   ]
  },
  {
   "cell_type": "markdown",
   "id": "a01fe2de",
   "metadata": {},
   "source": [
    "#### 7. What function takes a Python data structure and returns a string of JSON data?"
   ]
  },
  {
   "cell_type": "markdown",
   "id": "402064e7",
   "metadata": {},
   "source": [
    "**Ans:** `dumps()` method takes a python data structure and returns a string of JSON data."
   ]
  },
  {
   "cell_type": "code",
   "execution_count": 14,
   "id": "d827d0ed",
   "metadata": {},
   "outputs": [
    {
     "name": "stdout",
     "output_type": "stream",
     "text": [
      "{'Name': 'Unkown name', 'Dept': 'GIS', 'ID': '5WD18CGI'}\n",
      "Type of sub_details is :- <class 'dict'>\n",
      "{\"Name\": \"Unkown name\", \"Dept\": \"GIS\", \"ID\": \"5WD18CGI\"}\n",
      "Type of details is:- <class 'str'>\n"
     ]
    }
   ],
   "source": [
    "import json\n",
    "sub_details= {\n",
    "    \"Name\":\"Unkown name\",\n",
    "    \"Dept\":\"GIS\",\n",
    "    \"ID\":\"5WD18CGI\"\n",
    "}\n",
    "\n",
    "print(sub_details)\n",
    "print(f'Type of sub_details is :- {type(sub_details)}')\n",
    "details = json.dumps(sub_details)\n",
    "print(details)\n",
    "print(f'Type of details is:- {type(details)}')"
   ]
  }
 ],
 "metadata": {
  "kernelspec": {
   "display_name": "Python 3 (ipykernel)",
   "language": "python",
   "name": "python3"
  },
  "language_info": {
   "codemirror_mode": {
    "name": "ipython",
    "version": 3
   },
   "file_extension": ".py",
   "mimetype": "text/x-python",
   "name": "python",
   "nbconvert_exporter": "python",
   "pygments_lexer": "ipython3",
   "version": "3.9.12"
  }
 },
 "nbformat": 4,
 "nbformat_minor": 5
}
