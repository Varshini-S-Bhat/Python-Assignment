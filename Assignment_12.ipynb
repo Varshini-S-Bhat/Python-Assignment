{
 "cells": [
  {
   "cell_type": "markdown",
   "id": "a90ed8c8",
   "metadata": {},
   "source": [
    "#### 1. In what modes should the PdfFileReader() and PdfFileWriter() File objects will be opened?"
   ]
  },
  {
   "cell_type": "markdown",
   "id": "0122843a",
   "metadata": {},
   "source": [
    "**Ans:** These files will be opened in binary mode, Read binary(rb) for `PdfFileReader()` and write binary(wb) for `PdfFileWriter()`"
   ]
  },
  {
   "cell_type": "markdown",
   "id": "203161c9",
   "metadata": {},
   "source": [
    "#### 2. From a PdfFileReader object, how do you get a Page object for page 5?"
   ]
  },
  {
   "cell_type": "markdown",
   "id": "998b8a01",
   "metadata": {},
   "source": [
    "**Ans:**\n",
    "`get.page(4)` will return a Page object for page 5 since page 0 is the first page"
   ]
  },
  {
   "cell_type": "code",
   "execution_count": 16,
   "id": "fb237a27",
   "metadata": {},
   "outputs": [
    {
     "data": {
      "text/plain": [
       "'19.9 Processing algorithms . . . . . . . . . . . . . . . . . . . . . . . . . . . . . . . . . . . . . . . . 128\\n19.10 Decorators . . . . . . . . . . . . . . . . . . . . . . . . . . . . . . . . . . . . . . . . . . . . . . 129\\n19.11 Sources . . . . . . . . . . . . . . . . . . . . . . . . . . . . . . . . . . . . . . . . . . . . . . . . 130\\niii'"
      ]
     },
     "execution_count": 16,
     "metadata": {},
     "output_type": "execute_result"
    }
   ],
   "source": [
    "import PyPDF2 as pdf\n",
    "file = open(\"PyQGISDeveloperCookbook.pdf\",'rb')\n",
    "pdfRead = pdf.PdfFileReader(file)\n",
    "page5 = pdfRead.getPage(4)\n",
    "page5.extractText()"
   ]
  },
  {
   "cell_type": "markdown",
   "id": "8aeb62aa",
   "metadata": {},
   "source": [
    "#### 3. What PdfFileReader variable stores the number of pages in the PDF document?"
   ]
  },
  {
   "cell_type": "markdown",
   "id": "53080e70",
   "metadata": {},
   "source": [
    "**Ans:**"
   ]
  },
  {
   "cell_type": "code",
   "execution_count": 17,
   "id": "f824c508",
   "metadata": {},
   "outputs": [
    {
     "data": {
      "text/plain": [
       "136"
      ]
     },
     "execution_count": 17,
     "metadata": {},
     "output_type": "execute_result"
    }
   ],
   "source": [
    "pdfRead.numPages"
   ]
  },
  {
   "cell_type": "markdown",
   "id": "985c702f",
   "metadata": {},
   "source": [
    "#### 4. If a PdfFileReader object’s PDF is encrypted with the password swordfish, what must you do before you can obtain Page objects from it?"
   ]
  },
  {
   "cell_type": "markdown",
   "id": "a61774c1",
   "metadata": {},
   "source": [
    "**Ans:**"
   ]
  },
  {
   "cell_type": "code",
   "execution_count": 18,
   "id": "d290d599",
   "metadata": {},
   "outputs": [
    {
     "name": "stdout",
     "output_type": "stream",
     "text": [
      "File already decrypted\n"
     ]
    }
   ],
   "source": [
    "from PyPDF2 import PdfFileWriter, PdfFileReader\n",
    "\n",
    "# create a PdfFileWriter object\n",
    "out = PdfFileWriter()\n",
    "\n",
    "# open encrypted PDF file with the PdfFileReader\n",
    "file = PdfFileReader(\"PyQGISDeveloperCookbook.pdf\")\n",
    "\n",
    "# Store correct password in a variable password\n",
    "\n",
    "password = \"swordfish\"\n",
    "\n",
    "# check if the opened file is actually Encrypted\n",
    "\n",
    "if file.isEncrypted:\n",
    "    \n",
    "    # if encrypted, decrypt it with the password\n",
    "    file.decrypt(password)\n",
    "    \n",
    "    # now, the file has been unlocked.\n",
    "    # iterate through every page of the file and add it to our new file.\n",
    "    for idx in range(file.numPages):\n",
    "        \n",
    "        # get the page at index idx\n",
    "        page = file.getPage(idx)\n",
    "        \n",
    "        # Add it to the output file\n",
    "        out.addPage(page)\n",
    "        \n",
    "    #open a new file \"PyQGISDeveloperCookbook_decrypted.pdf\"\n",
    "    with open (\"PyQGISDeveloperCookbook_decrypted.pdf\",\"wb\") as f :\n",
    "        \n",
    "        # write our decrypted PDF to this file\n",
    "        out.write(f)\n",
    "        \n",
    "else:\n",
    "        \n",
    "        # if file is not encrypted , print the message\n",
    "        print(\"File already decrypted\")"
   ]
  },
  {
   "cell_type": "markdown",
   "id": "38aaddbe",
   "metadata": {},
   "source": [
    "#### 5. What methods do you use to rotate a page?"
   ]
  },
  {
   "cell_type": "markdown",
   "id": "59ec0317",
   "metadata": {},
   "source": [
    "**Ans:** \n",
    "\n",
    "For anticlockwise: `rotateCounterClockwise()` \n",
    "\n",
    "for clockwise    : `rotateClockwise()`"
   ]
  },
  {
   "cell_type": "markdown",
   "id": "7bf58dbe",
   "metadata": {},
   "source": [
    "#### 6. What is the difference between a Run object and a Paragraph object?"
   ]
  },
  {
   "cell_type": "markdown",
   "id": "e038dded",
   "metadata": {},
   "source": [
    "**Ans:** The structure of a document is represented by 3 different data types in `python-Docx`. At the highest level, a Document object represents the entire document. The Document object contains a list of `Paragraph` objects for the paragraphs in the document. (A new paragraph begins whenever the user presses `ENTER` or `RETURN` while typing in a Word document) Each of these pargraphs objects contains a list of one or more `Run` objects.\n",
    "\n",
    "The text in a word document is more than just a string. It has font, size, color and other styling information associated with it. A style in word is a collection of these attributes. A Run object is a contiguos run of text with the same style. A new Run object is needed whenever the text style changes.\n"
   ]
  },
  {
   "cell_type": "markdown",
   "id": "86fb1ce5",
   "metadata": {},
   "source": [
    "#### 7. How do you obtain a list of Paragraph objects for a Document object that’s stored in a variable named doc?"
   ]
  },
  {
   "cell_type": "markdown",
   "id": "9bcd08fb",
   "metadata": {},
   "source": [
    "**Ans:**"
   ]
  },
  {
   "cell_type": "code",
   "execution_count": null,
   "id": "1c4f0dec",
   "metadata": {},
   "outputs": [],
   "source": [
    "from docx import Document\n",
    "\n",
    "# path of the docx file\n",
    "doc = Document(\"Report.docx\")\n",
    "\n",
    "# print the list of paragraph objects for the document\n",
    "doc.paragraphs\n",
    "\n",
    "for paragraph in doc.paragraphs:\n",
    "    \n",
    "    # prints the text in the paragraph\n",
    "    print(paragraph.text)"
   ]
  },
  {
   "cell_type": "markdown",
   "id": "24ec35f0",
   "metadata": {},
   "source": [
    "#### 8. What type of object has bold, underline, italic, strike, and outline variables?"
   ]
  },
  {
   "cell_type": "markdown",
   "id": "a2860029",
   "metadata": {},
   "source": [
    "**Ans:** `Run` object has bold, underline, italic, strike and outline variables. The text in a word document is more than just a string.It has font, size, color and other styling information associated with it.\n",
    "\n",
    "A style in Word is a collection of these attributes. A Run object is a contiguous run of text with the same style. A new Run object is needed whenever the text style changes."
   ]
  },
  {
   "cell_type": "markdown",
   "id": "fea31995",
   "metadata": {},
   "source": [
    "#### 9. What is the difference between False, True, and None for the bold variable?"
   ]
  },
  {
   "cell_type": "markdown",
   "id": "6bc3402a",
   "metadata": {},
   "source": [
    "**Ans:**\n",
    "\n",
    "bold = True # Style is set to bold\n",
    "\n",
    "bold = False # Style not set to bold\n",
    "\n",
    "bold = None # Style is not applicable"
   ]
  },
  {
   "cell_type": "markdown",
   "id": "3bba1824",
   "metadata": {},
   "source": [
    "#### 10. How do you create a Document object for a new Word document?"
   ]
  },
  {
   "cell_type": "markdown",
   "id": "0d63ed49",
   "metadata": {},
   "source": [
    "**Ans:**"
   ]
  },
  {
   "cell_type": "code",
   "execution_count": 25,
   "id": "b1f1ec69",
   "metadata": {},
   "outputs": [],
   "source": [
    "from docx import Document\n",
    "document = Document()\n",
    "document.add_paragraph(\"Python for Data science\")\n",
    "document.save('FSDS.docx')"
   ]
  },
  {
   "cell_type": "markdown",
   "id": "007d46ee",
   "metadata": {},
   "source": [
    "#### 11. How do you add a paragraph with the text 'Hello, there!' to a Document object stored in a variable named doc?"
   ]
  },
  {
   "cell_type": "markdown",
   "id": "fce53502",
   "metadata": {},
   "source": [
    "**Ans:**"
   ]
  },
  {
   "cell_type": "code",
   "execution_count": 26,
   "id": "054da8d6",
   "metadata": {},
   "outputs": [],
   "source": [
    "from docx import Document\n",
    "doc = Document()\n",
    "doc.add_paragraph('Hello, there!')\n",
    "doc.save('hello.docx')"
   ]
  },
  {
   "cell_type": "markdown",
   "id": "1b899490",
   "metadata": {},
   "source": [
    "#### 12. What integers represent the levels of headings available in Word documents?"
   ]
  },
  {
   "cell_type": "markdown",
   "id": "70680ecc",
   "metadata": {},
   "source": [
    "**Ans:**"
   ]
  },
  {
   "cell_type": "markdown",
   "id": "e47ec608",
   "metadata": {},
   "source": [
    "The levels for a heading in a word document can be specified by using the `level` attribute inside the `add_heading method`. There are a total of 5 levels statring for 0 to 4. where level 0 makes a headline with the horizontal line below the text, whereas the heading level 1 is the main heading. Similarly, the other headings are sub-heading with their's font-sizes in decreasing order."
   ]
  }
 ],
 "metadata": {
  "kernelspec": {
   "display_name": "Python 3 (ipykernel)",
   "language": "python",
   "name": "python3"
  },
  "language_info": {
   "codemirror_mode": {
    "name": "ipython",
    "version": 3
   },
   "file_extension": ".py",
   "mimetype": "text/x-python",
   "name": "python",
   "nbconvert_exporter": "python",
   "pygments_lexer": "ipython3",
   "version": "3.9.12"
  }
 },
 "nbformat": 4,
 "nbformat_minor": 5
}
