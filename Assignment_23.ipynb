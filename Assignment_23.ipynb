{
 "cells": [
  {
   "cell_type": "markdown",
   "id": "5adc1b80",
   "metadata": {},
   "source": [
    "#### 1. What is the result of the code, and why?\n",
    "`>>> def func(a, b=6, c=8):`\n",
    "\n",
    "`print(a, b, c)`\n",
    "\n",
    "`>>> func(1, 2)`\n"
   ]
  },
  {
   "cell_type": "markdown",
   "id": "334f40fb",
   "metadata": {},
   "source": [
    "**Ans:**"
   ]
  },
  {
   "cell_type": "markdown",
   "id": "31ea1ce6",
   "metadata": {},
   "source": [
    "The result of the above code is `1 2 8`. Its because the function uses the default value of `C` ie `8` which is provided at the time of declaration>"
   ]
  },
  {
   "cell_type": "code",
   "execution_count": 1,
   "id": "2f5b809d",
   "metadata": {},
   "outputs": [
    {
     "name": "stdout",
     "output_type": "stream",
     "text": [
      "1 2 8\n"
     ]
    }
   ],
   "source": [
    "def func(a, b=6, c=8):\n",
    "    print(a,b,c)\n",
    "func(1,2)"
   ]
  },
  {
   "cell_type": "markdown",
   "id": "0ce48b22",
   "metadata": {},
   "source": [
    "#### 2. What is the result of this code, and why?\n",
    "`>>> def func(a, b, c=5):`\n",
    "\n",
    "`print(a, b, c)`\n",
    "\n",
    "`>>> func(1, c=3, b=2)`"
   ]
  },
  {
   "cell_type": "markdown",
   "id": "e6feebb2",
   "metadata": {},
   "source": [
    "**Ans:**"
   ]
  },
  {
   "cell_type": "markdown",
   "id": "5066c883",
   "metadata": {},
   "source": [
    "The result of the above code is `1 2 3`. It is because the function will use default values only when a value for a argument is not provided and if argument name is mentioned while doing a function call,the order of arguments is also ignored by the python interpreter."
   ]
  },
  {
   "cell_type": "code",
   "execution_count": 2,
   "id": "0322b1cc",
   "metadata": {},
   "outputs": [
    {
     "name": "stdout",
     "output_type": "stream",
     "text": [
      "1 2 3\n"
     ]
    }
   ],
   "source": [
    "def func(a, b, c=5):\n",
    "    print(a, b, c)\n",
    "func(1, c=3, b=2)"
   ]
  },
  {
   "cell_type": "markdown",
   "id": "31377347",
   "metadata": {},
   "source": [
    "#### 3. How about this code: what is its result, and why?\n",
    "`>>> def func(a, *pargs):`\n",
    "\n",
    "`print(a, pargs)`\n",
    "\n",
    "`>>> func(1, 2, 3)`"
   ]
  },
  {
   "cell_type": "markdown",
   "id": "f82d9613",
   "metadata": {},
   "source": [
    "**Ans:**"
   ]
  },
  {
   "cell_type": "markdown",
   "id": "311384c5",
   "metadata": {},
   "source": [
    "The result of the code is `1 (2,3)`. `*pargs` stands for variable length arguments. this format is used when we are not sure about the no of arguments to be passed to a function. all the values under this argument will be stored in a tuple."
   ]
  },
  {
   "cell_type": "code",
   "execution_count": 3,
   "id": "8d5e3992",
   "metadata": {},
   "outputs": [
    {
     "name": "stdout",
     "output_type": "stream",
     "text": [
      "1 (2, 3)\n"
     ]
    }
   ],
   "source": [
    "def func(a, *pargs):\n",
    "    print(a,pargs)\n",
    "func(1,2,3)"
   ]
  },
  {
   "cell_type": "markdown",
   "id": "84cd31b1",
   "metadata": {},
   "source": [
    "#### 4. What does this code print, and why?\n",
    "`>>> def func(a, **kargs):`\n",
    "\n",
    "`print(a, kargs)`\n",
    "\n",
    "`>>> func(a=1, c=3, b=2)`"
   ]
  },
  {
   "cell_type": "markdown",
   "id": "953c35f5",
   "metadata": {},
   "source": [
    "**Ans:**"
   ]
  },
  {
   "cell_type": "markdown",
   "id": "7d495dd4",
   "metadata": {},
   "source": [
    "The result of the above code is `1 {'c': 3, 'b': 2}`. `**args` stands for variable length keyword arguments. this format is used when we want pass key value pairs as input to a function. All these key value pairs will be stored in a dictionary"
   ]
  },
  {
   "cell_type": "code",
   "execution_count": 4,
   "id": "95420adf",
   "metadata": {},
   "outputs": [
    {
     "name": "stdout",
     "output_type": "stream",
     "text": [
      "1 {'c': 3, 'b': 2}\n"
     ]
    }
   ],
   "source": [
    "def func(a, **kargs):\n",
    "    print(a, kargs)\n",
    "func(a=1 , c= 3, b =2)"
   ]
  },
  {
   "cell_type": "markdown",
   "id": "34b3d00f",
   "metadata": {},
   "source": [
    "#### 5. What gets printed by this, and explain?\n",
    "`>>> def func(a, b, c=8, d=5): print(a, b, c, d)`\n",
    "\n",
    "`>>> func(1, *(5, 6))`"
   ]
  },
  {
   "cell_type": "markdown",
   "id": "33c129b8",
   "metadata": {},
   "source": [
    "**Ans:**"
   ]
  },
  {
   "cell_type": "markdown",
   "id": "99806020",
   "metadata": {},
   "source": [
    "The output of the above is `1 5 6 5`. This reason for this function not throwing an error is because, this function expects 4 arguments. the value for a is provided explicitly whereas for arguments b and c, the function will expand the `*(5,6)` and consider the value of b as 5 and value of c as 6. since the default value of d is provided in function declaration d value will be 5. However it is recommended to use the feature of positional arguments at the end."
   ]
  },
  {
   "cell_type": "code",
   "execution_count": 5,
   "id": "4d10325a",
   "metadata": {},
   "outputs": [
    {
     "name": "stdout",
     "output_type": "stream",
     "text": [
      "1 5 6 5\n"
     ]
    }
   ],
   "source": [
    "def func(a,b,c=8,d=5):\n",
    "    print(a,b,c,d)\n",
    "func(1,*(5,6))"
   ]
  },
  {
   "cell_type": "markdown",
   "id": "2c0804cb",
   "metadata": {},
   "source": [
    "#### 6. what is the result of this, and explain?\n",
    "`>>> def func(a, b, c): a = 2; b[0] = 'x'; c['a'] = 'y'`\n",
    "\n",
    "`>>> l=1; m=[1]; n={'a':0}`\n",
    "\n",
    "`>>> func(l, m, n)`\n",
    "\n",
    "`>>> l, m, n`"
   ]
  },
  {
   "cell_type": "markdown",
   "id": "1c18cb09",
   "metadata": {},
   "source": [
    "**Ans:**"
   ]
  },
  {
   "cell_type": "markdown",
   "id": "ade5b809",
   "metadata": {},
   "source": [
    "The output of the above is `(1, ['x'], {'a': 'y'})` Here in the code, the list and dict are passed as argument, and those are mutable. Here the list m and parameter b points to the same list in the memory location where as dict n and c point to the same memory location. Any updates to this list will update in the memory location.`l = 1` , integer value is immutable, m is list & mutable, n is dict & mutable."
   ]
  },
  {
   "cell_type": "code",
   "execution_count": 6,
   "id": "08561050",
   "metadata": {},
   "outputs": [
    {
     "data": {
      "text/plain": [
       "(1000, ['x'], {'a': 'y'})"
      ]
     },
     "execution_count": 6,
     "metadata": {},
     "output_type": "execute_result"
    }
   ],
   "source": [
    "def func(a, b, c): a = 2; b[0] = 'x'; c['a'] = 'y'\n",
    "l=1000; m=[1]; n={'a':0}\n",
    "\n",
    "func(l, m, n)\n",
    "l,m,n"
   ]
  },
  {
   "cell_type": "code",
   "execution_count": null,
   "id": "a023f8ab",
   "metadata": {},
   "outputs": [],
   "source": []
  }
 ],
 "metadata": {
  "kernelspec": {
   "display_name": "Python 3 (ipykernel)",
   "language": "python",
   "name": "python3"
  },
  "language_info": {
   "codemirror_mode": {
    "name": "ipython",
    "version": 3
   },
   "file_extension": ".py",
   "mimetype": "text/x-python",
   "name": "python",
   "nbconvert_exporter": "python",
   "pygments_lexer": "ipython3",
   "version": "3.9.7"
  }
 },
 "nbformat": 4,
 "nbformat_minor": 5
}
