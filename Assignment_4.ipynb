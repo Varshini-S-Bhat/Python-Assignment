{
 "cells": [
  {
   "cell_type": "markdown",
   "id": "bdcb4164",
   "metadata": {},
   "source": [
    "#### 1. What exactly is [ ]?"
   ]
  },
  {
   "cell_type": "markdown",
   "id": "7a33f401",
   "metadata": {},
   "source": [
    "**Ans**: `[]` is a empty list that contains no items."
   ]
  },
  {
   "cell_type": "markdown",
   "id": "4125b0e1",
   "metadata": {},
   "source": [
    "#### 2.In a list of values stored in a variable called spam, how would you assign the value 'hello' as the third value? (Assume [2, 4, 6, 8, 10] are in spam.)"
   ]
  },
  {
   "cell_type": "markdown",
   "id": "f0770fc2",
   "metadata": {},
   "source": [
    "**Ans:** `spam[2]='hello'`  (list follows zero based indexing)"
   ]
  },
  {
   "cell_type": "code",
   "execution_count": 4,
   "id": "7cd6d1a7",
   "metadata": {
    "scrolled": true
   },
   "outputs": [
    {
     "name": "stdout",
     "output_type": "stream",
     "text": [
      "[2, 4, 6, 8, 10]\n",
      "[2, 4, 'hello', 8, 10]\n"
     ]
    }
   ],
   "source": [
    "spam = [2,4,6,8,10]\n",
    "print(spam)\n",
    "spam[2]='hello' # assigning third value as hello\n",
    "print(spam)"
   ]
  },
  {
   "cell_type": "markdown",
   "id": "b48610c1",
   "metadata": {},
   "source": [
    "## Let's pretend the spam includes the list ['a', 'b', 'c', 'd'] for the next three queries."
   ]
  },
  {
   "cell_type": "markdown",
   "id": "0b672c9d",
   "metadata": {},
   "source": [
    "#### 3. What is the value of spam[int(int('3' * 2) / 11)]?\n"
   ]
  },
  {
   "cell_type": "markdown",
   "id": "2f8be690",
   "metadata": {},
   "source": [
    "**Ans:** '3'*2 is the string so '33',which is passes to int() before being divided by 11.This eventually evaluates to 3, which is spam[3] is equal to `d` "
   ]
  },
  {
   "cell_type": "code",
   "execution_count": 5,
   "id": "a8db4e02",
   "metadata": {},
   "outputs": [
    {
     "name": "stdout",
     "output_type": "stream",
     "text": [
      "spam[int(int('3'*2)/11)]is : d\n"
     ]
    }
   ],
   "source": [
    "spam =['a','b','c','d']\n",
    "print(\"spam[int(int('3'*2)/11)]is :\",spam[int(int('3'*2)/11)])"
   ]
  },
  {
   "cell_type": "markdown",
   "id": "421c258e",
   "metadata": {},
   "source": [
    "#### 4. What is the value of spam[-1]?"
   ]
  },
  {
   "cell_type": "markdown",
   "id": "f7595207",
   "metadata": {},
   "source": [
    "**Ans:** List supports Negative indexing so `spam[-1]` returns `'d'`"
   ]
  },
  {
   "cell_type": "code",
   "execution_count": 7,
   "id": "4788719b",
   "metadata": {},
   "outputs": [
    {
     "name": "stdout",
     "output_type": "stream",
     "text": [
      "spam[-1] :  d\n"
     ]
    }
   ],
   "source": [
    "spam=['a','b','c','d']\n",
    "print('spam[-1] : ',spam[-1])"
   ]
  },
  {
   "cell_type": "markdown",
   "id": "6a1dc057",
   "metadata": {},
   "source": [
    "#### 5. What is the value of spam[:2]?"
   ]
  },
  {
   "cell_type": "markdown",
   "id": "091ac4a9",
   "metadata": {},
   "source": [
    "**Ans:** `spam[:2]` returns all the elements in list spam from index 0 to 2 exculding 2"
   ]
  },
  {
   "cell_type": "code",
   "execution_count": 9,
   "id": "ed5a1cf8",
   "metadata": {},
   "outputs": [
    {
     "name": "stdout",
     "output_type": "stream",
     "text": [
      "['a', 'b', 'c', 'd']\n"
     ]
    },
    {
     "data": {
      "text/plain": [
       "['a', 'b']"
      ]
     },
     "execution_count": 9,
     "metadata": {},
     "output_type": "execute_result"
    }
   ],
   "source": [
    "print(spam)\n",
    "spam[:2]"
   ]
  },
  {
   "cell_type": "markdown",
   "id": "e9597900",
   "metadata": {},
   "source": [
    "## Let's pretend bacon has the list [3.14, 'cat,' 11, 'cat,' True] for the next three questions."
   ]
  },
  {
   "cell_type": "markdown",
   "id": "66eadd22",
   "metadata": {},
   "source": [
    "#### 6. What is the value of bacon.index('cat')?"
   ]
  },
  {
   "cell_type": "markdown",
   "id": "05f4bd30",
   "metadata": {},
   "source": [
    "**Ans:** Index method returns the index of first occurrence of `'cat'`. The value of `bacon.index('cat')`is `1`"
   ]
  },
  {
   "cell_type": "code",
   "execution_count": 24,
   "id": "b6472a5a",
   "metadata": {},
   "outputs": [
    {
     "name": "stdout",
     "output_type": "stream",
     "text": [
      "bacon.index('cat'): 1\n"
     ]
    }
   ],
   "source": [
    "bacon = [3.14,'cat',11,'cat',True]\n",
    "print(\"bacon.index('cat'):\",bacon.index('cat'))"
   ]
  },
  {
   "cell_type": "markdown",
   "id": "fb4b9d95",
   "metadata": {},
   "source": [
    "#### 7. How does bacon.append(99) change the look of the list value in bacon?"
   ]
  },
  {
   "cell_type": "markdown",
   "id": "1eea026f",
   "metadata": {},
   "source": [
    "**Ans:** The `append` method adds new elements to the end of the list"
   ]
  },
  {
   "cell_type": "code",
   "execution_count": 25,
   "id": "85e2fed0",
   "metadata": {},
   "outputs": [
    {
     "name": "stdout",
     "output_type": "stream",
     "text": [
      "[3.14, 'cat', 11, 'cat', True]\n",
      "[3.14, 'cat', 11, 'cat', True, 99]\n"
     ]
    }
   ],
   "source": [
    "print(bacon)\n",
    "bacon.append(99) # append adds 99 to the end of the list\n",
    "print(bacon)"
   ]
  },
  {
   "cell_type": "markdown",
   "id": "5df4cae3",
   "metadata": {},
   "source": [
    "#### 8. How does bacon.remove('cat') change the look of the list in bacon?"
   ]
  },
  {
   "cell_type": "markdown",
   "id": "8d1c367f",
   "metadata": {},
   "source": [
    "**Ans:** The `remove` method rmoves first occurrence of the element in the list"
   ]
  },
  {
   "cell_type": "code",
   "execution_count": 26,
   "id": "07fd386b",
   "metadata": {},
   "outputs": [
    {
     "name": "stdout",
     "output_type": "stream",
     "text": [
      "[3.14, 'cat', 11, 'cat', True, 99]\n",
      "[3.14, 11, 'cat', True, 99]\n"
     ]
    }
   ],
   "source": [
    "print(bacon)\n",
    "bacon.remove('cat')\n",
    "print(bacon)"
   ]
  },
  {
   "cell_type": "markdown",
   "id": "9e930a37",
   "metadata": {},
   "source": [
    "#### 9. What are the list concatenation and list replication operators?"
   ]
  },
  {
   "cell_type": "markdown",
   "id": "89cac3b6",
   "metadata": {},
   "source": [
    "**Ans:** The operator for list concatrnation is `+`, while the operator for list replication is `*`"
   ]
  },
  {
   "cell_type": "code",
   "execution_count": 27,
   "id": "8534b8a3",
   "metadata": {},
   "outputs": [
    {
     "name": "stdout",
     "output_type": "stream",
     "text": [
      "['python', 'java', 'html', 'css', 'ML', 'DL', 'AI', 'NLP']\n",
      "['python', 'java', 'html', 'css', 'python', 'java', 'html', 'css']\n"
     ]
    }
   ],
   "source": [
    "# Example\n",
    "\n",
    "list_a = ['python','java','html','css']\n",
    "list_b = ['ML','DL','AI','NLP']\n",
    "print(list_a + list_b) # list Concatenation\n",
    "print(list_a *2)  # list Replication"
   ]
  },
  {
   "cell_type": "markdown",
   "id": "1ee23a75",
   "metadata": {},
   "source": [
    "#### 10.what is the difference between the list method append() and insert()?"
   ]
  },
  {
   "cell_type": "markdown",
   "id": "2311bdf3",
   "metadata": {},
   "source": [
    "**Ans:** While `append()` will add values only to the end of a list, `insert()` can add values anywhere in the list."
   ]
  },
  {
   "cell_type": "code",
   "execution_count": 30,
   "id": "d0644ff2",
   "metadata": {},
   "outputs": [
    {
     "name": "stdout",
     "output_type": "stream",
     "text": [
      "['a', 'b', 'c', 'd', 1]\n",
      "['demo', 'a', 'b', 'c', 'd', 1]\n"
     ]
    }
   ],
   "source": [
    "#Example\n",
    "\n",
    "list = ['a','b','c','d']\n",
    "list.append(1)\n",
    "print(list)\n",
    "list.insert(0, 'demo')\n",
    "print(list)"
   ]
  },
  {
   "cell_type": "markdown",
   "id": "b12fb468",
   "metadata": {},
   "source": [
    "#### 11. What are the two methods for removing items from a list?"
   ]
  },
  {
   "cell_type": "markdown",
   "id": "3a321b3a",
   "metadata": {},
   "source": [
    "**Ans:** `remove()`and `pop()` are two methods for removing values from a list"
   ]
  },
  {
   "cell_type": "markdown",
   "id": "329d8b9a",
   "metadata": {},
   "source": [
    "#### 12. Describe how list values and string values are identical."
   ]
  },
  {
   "cell_type": "markdown",
   "id": "c4d26535",
   "metadata": {},
   "source": [
    "**Ans:** The similarity between Lists and Strings in Python is that both are sequences.Both lists and strings can be passed to `len()` function, have indexes and slices, be used in `for` loops, be concatenated or replicated, and be used with the `in` and `not in` operators."
   ]
  },
  {
   "cell_type": "markdown",
   "id": "a997357d",
   "metadata": {},
   "source": [
    "#### 13. What's the difference between tuples and lists?"
   ]
  },
  {
   "cell_type": "markdown",
   "id": "aace092d",
   "metadata": {},
   "source": [
    "**Ans:** Lists are `Mutable`, `Indexable` and `Slicable`. they can have values added, removed, or changed. Tuples are `Immutable` but `Indexable` and `Slicable`. the tuple values cannot be changed at all. Also, tuples are represented using parentheses, `()`, while lists use the square brackets, `[]`."
   ]
  },
  {
   "cell_type": "markdown",
   "id": "6d7873a0",
   "metadata": {},
   "source": [
    "#### 14. How do you type a tuple value that only contains the integer 42?"
   ]
  },
  {
   "cell_type": "markdown",
   "id": "aefc5b39",
   "metadata": {},
   "source": [
    "**Ans:**(42,) (The trailing comma is mandatory. otherwise its considered as a int by python Interpreter)"
   ]
  },
  {
   "cell_type": "code",
   "execution_count": 31,
   "id": "e6a22ea8",
   "metadata": {},
   "outputs": [
    {
     "name": "stdout",
     "output_type": "stream",
     "text": [
      "<class 'int'>\n",
      "<class 'tuple'>\n"
     ]
    }
   ],
   "source": [
    "tup1=(42)\n",
    "tup2=(42,)\n",
    "print(type(tup1))\n",
    "print(type(tup2))"
   ]
  },
  {
   "cell_type": "markdown",
   "id": "253b45ef",
   "metadata": {},
   "source": [
    "#### 15. How do you get a list value's tuple form? How do you get a tuple value's list form?"
   ]
  },
  {
   "cell_type": "markdown",
   "id": "aa9109f4",
   "metadata": {},
   "source": [
    "**Ans:** The `tuple()` and `list()` functions, respectively are used to convert a list to tuple and vice versa"
   ]
  },
  {
   "cell_type": "markdown",
   "id": "812f5221",
   "metadata": {},
   "source": [
    "#### 16. Variables that \"contain\" list values are not necessarily lists themselves. Instead, what do they contain?"
   ]
  },
  {
   "cell_type": "markdown",
   "id": "d57780bd",
   "metadata": {},
   "source": [
    "**Ans**: They contain references to list values"
   ]
  },
  {
   "cell_type": "markdown",
   "id": "f390660c",
   "metadata": {},
   "source": [
    "#### 17. How do you distinguish between copy.copy() and copy.deepcopy()?"
   ]
  },
  {
   "cell_type": "markdown",
   "id": "e5cb42b1",
   "metadata": {},
   "source": [
    "**Ans:** The difference between `copy.copy()`(shallow) and `copy.deepcopy()`(deep) copying is only relevant for compound objects (objects that contain other objects, like lists or class instances):\n",
    "\n",
    "**1** A shallow copy constructs a new compound object and then (to the extent possible) inserts references into it to the objects found in the original.\n",
    "\n",
    "**2** A deep copy constructs a new compound object and then, recursively, inserts copies into it of the objects found in the original."
   ]
  },
  {
   "cell_type": "code",
   "execution_count": null,
   "id": "dcb22af0",
   "metadata": {},
   "outputs": [],
   "source": []
  }
 ],
 "metadata": {
  "kernelspec": {
   "display_name": "Python 3 (ipykernel)",
   "language": "python",
   "name": "python3"
  },
  "language_info": {
   "codemirror_mode": {
    "name": "ipython",
    "version": 3
   },
   "file_extension": ".py",
   "mimetype": "text/x-python",
   "name": "python",
   "nbconvert_exporter": "python",
   "pygments_lexer": "ipython3",
   "version": "3.9.12"
  }
 },
 "nbformat": 4,
 "nbformat_minor": 5
}
