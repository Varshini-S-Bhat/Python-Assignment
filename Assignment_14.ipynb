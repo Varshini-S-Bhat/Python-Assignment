{
 "cells": [
  {
   "cell_type": "markdown",
   "id": "49f81985",
   "metadata": {},
   "source": [
    "#### 1. What does RGBA stand for?"
   ]
  },
  {
   "cell_type": "markdown",
   "id": "f8ac4df4",
   "metadata": {},
   "source": [
    "**Ans:** **RGBA** is four-channel format containing data for `Red`,`Green`,`Blue` and an `Alpha` value. Where Alpha Represent the Opacity."
   ]
  },
  {
   "cell_type": "markdown",
   "id": "4ef9a19e",
   "metadata": {},
   "source": [
    "#### 2. From the Pillow module, how do you get the RGBA value of any images?"
   ]
  },
  {
   "cell_type": "markdown",
   "id": "956fc3c0",
   "metadata": {},
   "source": [
    "**Ans:** `ImageColor.getcolor()` gives rgba value of any image"
   ]
  },
  {
   "cell_type": "code",
   "execution_count": 1,
   "id": "b69df5b9",
   "metadata": {},
   "outputs": [
    {
     "data": {
      "text/plain": [
       "(0, 128, 0, 255)"
      ]
     },
     "execution_count": 1,
     "metadata": {},
     "output_type": "execute_result"
    }
   ],
   "source": [
    "from PIL import ImageColor\n",
    "ImageColor.getcolor('green', 'RGBA')"
   ]
  },
  {
   "cell_type": "markdown",
   "id": "c0e296b6",
   "metadata": {},
   "source": [
    "#### 3. What is a box tuple, and how does it work?"
   ]
  },
  {
   "cell_type": "markdown",
   "id": "bb6db7e3",
   "metadata": {},
   "source": [
    "**Ans:** A box tuple is a tuple value of four integers,the left edge x coordinates, the top edge y coordinates, the width and the height , respectively."
   ]
  },
  {
   "cell_type": "markdown",
   "id": "c1adaa4c",
   "metadata": {},
   "source": [
    "#### 4. Use your image and load in notebook then, How can you find out the width and height of an Image object?"
   ]
  },
  {
   "cell_type": "markdown",
   "id": "0726b3ea",
   "metadata": {},
   "source": [
    "**Ans:** "
   ]
  },
  {
   "cell_type": "code",
   "execution_count": 11,
   "id": "3a0cfc7b",
   "metadata": {},
   "outputs": [
    {
     "name": "stdout",
     "output_type": "stream",
     "text": [
      "width and height of image is 1576,250 respectivelly\n"
     ]
    }
   ],
   "source": [
    "from PIL import Image\n",
    "\n",
    "pic = Image.open('Capture.PNG')\n",
    "width = pic.width\n",
    "height = pic.height\n",
    "\n",
    "print(\"width and height of image is {},{} respectivelly\". format(width,height))"
   ]
  },
  {
   "cell_type": "markdown",
   "id": "752cc385",
   "metadata": {},
   "source": [
    "#### 5. What method would you call to get Image object for a 100×100 image, excluding the lower-left quarter of it?"
   ]
  },
  {
   "cell_type": "code",
   "execution_count": 27,
   "id": "f5cea89e",
   "metadata": {},
   "outputs": [],
   "source": [
    "from PIL import Image\n",
    "im = Image.open('Capture.PNG')\n",
    "new_im = im.crop((0,50,50,50))"
   ]
  },
  {
   "cell_type": "markdown",
   "id": "7da23f20",
   "metadata": {},
   "source": [
    "#### 6. After making changes to an Image object, how could you save it as an image file?"
   ]
  },
  {
   "cell_type": "code",
   "execution_count": 28,
   "id": "895e87d6",
   "metadata": {},
   "outputs": [],
   "source": [
    "#Example Program\n",
    "from PIL import Image\n",
    "pic = Image.open('Capture.PNG')\n",
    "pic.save('Capture2.PNG')"
   ]
  },
  {
   "cell_type": "markdown",
   "id": "b3156a04",
   "metadata": {},
   "source": [
    "#### 7. What module contains Pillow’s shape-drawing code?"
   ]
  },
  {
   "cell_type": "markdown",
   "id": "0d800496",
   "metadata": {},
   "source": [
    "**Ans:** Pillows **`ImageDraw`** module contains Shape drawing methods"
   ]
  },
  {
   "cell_type": "markdown",
   "id": "a747ab0a",
   "metadata": {},
   "source": [
    "#### 8. Image objects do not have drawing methods. What kind of object does? How do you get this kind of object?"
   ]
  },
  {
   "cell_type": "markdown",
   "id": "79b23441",
   "metadata": {},
   "source": [
    "**Ans:** ImageDraw objects have shape-drawing methods such as `point()`, `line()`, or `rectangle(`).They are returned by passing the Image object to the `ImageDraw.Draw()` function."
   ]
  }
 ],
 "metadata": {
  "kernelspec": {
   "display_name": "Python 3 (ipykernel)",
   "language": "python",
   "name": "python3"
  },
  "language_info": {
   "codemirror_mode": {
    "name": "ipython",
    "version": 3
   },
   "file_extension": ".py",
   "mimetype": "text/x-python",
   "name": "python",
   "nbconvert_exporter": "python",
   "pygments_lexer": "ipython3",
   "version": "3.9.12"
  }
 },
 "nbformat": 4,
 "nbformat_minor": 5
}
