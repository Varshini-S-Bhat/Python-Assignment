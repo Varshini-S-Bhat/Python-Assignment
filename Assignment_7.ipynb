{
 "cells": [
  {
   "cell_type": "markdown",
   "id": "8ac4e5b1",
   "metadata": {},
   "source": [
    "#### 1. What is the name of the feature responsible for generating Regex objects?"
   ]
  },
  {
   "cell_type": "markdown",
   "id": "b7cf4e8c",
   "metadata": {},
   "source": [
    "**Ans:** The re.compile() function resonsible for generating Regex objects "
   ]
  },
  {
   "cell_type": "code",
   "execution_count": 80,
   "id": "fdecff32",
   "metadata": {},
   "outputs": [
    {
     "data": {
      "text/plain": [
       "re.compile(r'string', re.UNICODE)"
      ]
     },
     "execution_count": 80,
     "metadata": {},
     "output_type": "execute_result"
    }
   ],
   "source": [
    "import re \n",
    "re.compile(\"string\")"
   ]
  },
  {
   "cell_type": "markdown",
   "id": "a48ba19d",
   "metadata": {},
   "source": [
    "#### 2. Why do raw strings often appear in Regex objects?"
   ]
  },
  {
   "cell_type": "markdown",
   "id": "d0990017",
   "metadata": {},
   "source": [
    "**Ans:** Raw strings are used so that backslashes do not have to be escaped."
   ]
  },
  {
   "cell_type": "markdown",
   "id": "4dc7d06a",
   "metadata": {},
   "source": [
    "#### 3. What is the return value of the search() method?"
   ]
  },
  {
   "cell_type": "markdown",
   "id": "ae925eb1",
   "metadata": {},
   "source": [
    "**Ans:** The `search()` method searches a string for a specified value and returns the position of the match. Thr search value can be string or a regular expression. This method returns -1 if no match is found"
   ]
  },
  {
   "cell_type": "markdown",
   "id": "a20d0c0d",
   "metadata": {},
   "source": [
    "#### 4. From a Match item, how do you get the actual strings that match the pattern?"
   ]
  },
  {
   "cell_type": "markdown",
   "id": "9c020773",
   "metadata": {},
   "source": [
    "**Ans:** group() method returns matched pattern"
   ]
  },
  {
   "cell_type": "code",
   "execution_count": 81,
   "id": "b3067998",
   "metadata": {},
   "outputs": [
    {
     "name": "stdout",
     "output_type": "stream",
     "text": [
      "Phone number is:415-555-4242\n"
     ]
    }
   ],
   "source": [
    "import re \n",
    "phoneNumRegex = re.compile(r'\\d\\d\\d-\\d\\d\\d-\\d\\d\\d\\d')\n",
    "mo = phoneNumRegex.search('My number is 415-555-4242.')\n",
    "print('Phone number is:' + mo.group())#Calling matchingObject.group() will return the string."
   ]
  },
  {
   "cell_type": "markdown",
   "id": "9956e433",
   "metadata": {},
   "source": [
    "#### 5. In the regex which created from the r'(\\d\\d\\d)-(\\d\\d\\d-\\d\\d\\d\\d)', what does group zero cover? Group 2? Group 1?"
   ]
  },
  {
   "cell_type": "markdown",
   "id": "1d4bb2f2",
   "metadata": {},
   "source": [
    "**Ans:** "
   ]
  },
  {
   "cell_type": "code",
   "execution_count": 82,
   "id": "28dacb2b",
   "metadata": {},
   "outputs": [
    {
     "name": "stdout",
     "output_type": "stream",
     "text": [
      "group 0 covers whole part:415-555-4242\n"
     ]
    }
   ],
   "source": [
    "phoneNumRegex = re.compile(r'(\\d\\d\\d)-(\\d\\d\\d-\\d\\d\\d\\d)')\n",
    "mo = phoneNumRegex.search('My number is 415-555-4242.')\n",
    "print('group 0 covers whole part:' + mo.group(0))"
   ]
  },
  {
   "cell_type": "code",
   "execution_count": 83,
   "id": "2df65596",
   "metadata": {},
   "outputs": [
    {
     "name": "stdout",
     "output_type": "stream",
     "text": [
      "group 2 covers second part:555-4242\n"
     ]
    }
   ],
   "source": [
    "print('group 2 covers second part:' + mo.group(2))"
   ]
  },
  {
   "cell_type": "code",
   "execution_count": 84,
   "id": "22c5d887",
   "metadata": {},
   "outputs": [
    {
     "name": "stdout",
     "output_type": "stream",
     "text": [
      "group 1 covers whole part:415-555-4242\n"
     ]
    }
   ],
   "source": [
    "print('group 1 covers whole part:' + mo.group(0))"
   ]
  },
  {
   "cell_type": "markdown",
   "id": "c153e278",
   "metadata": {},
   "source": [
    "#### 6. In standard expression syntax, parentheses and intervals have distinct meanings. How can you tell a regex that you want it to fit real parentheses and periods?"
   ]
  },
  {
   "cell_type": "markdown",
   "id": "ff9407f1",
   "metadata": {},
   "source": [
    "**Ans:** Periods and parentheses can be escaped with a backslash"
   ]
  },
  {
   "cell_type": "markdown",
   "id": "3df39cac",
   "metadata": {},
   "source": [
    "     \\., \\(, and \\)\n",
    "   "
   ]
  },
  {
   "cell_type": "markdown",
   "id": "4dcbd881",
   "metadata": {},
   "source": [
    "#### 7. The findall() method returns a string list or a list of string tuples. What causes it to return one of the two options?"
   ]
  },
  {
   "cell_type": "markdown",
   "id": "fdb48634",
   "metadata": {},
   "source": [
    "**Ans:** If the regex has no groups, a list of strings is returned. If the regex has a groups, alist of tuples of strings is returned."
   ]
  },
  {
   "cell_type": "markdown",
   "id": "00134c1b",
   "metadata": {},
   "source": [
    "#### 8. In standard expressions, what does the | character mean?"
   ]
  },
  {
   "cell_type": "markdown",
   "id": "b9df700a",
   "metadata": {},
   "source": [
    "**Ans:** The `|` character is called pipe.The `|` character signifies matching either or between to groups. We can use it anywhere we want to match one of many expressions. For example, the regular expressions. For example, the regular expression r'Apple|Orange' will match either 'Apple' or 'Orange'.When both Apple and Orange occur in the searched string,the first occurence of matching text will be returned as the match object."
   ]
  },
  {
   "cell_type": "code",
   "execution_count": 85,
   "id": "e2ef76de",
   "metadata": {},
   "outputs": [
    {
     "data": {
      "text/plain": [
       "'Apple'"
      ]
     },
     "execution_count": 85,
     "metadata": {},
     "output_type": "execute_result"
    }
   ],
   "source": [
    "Fruits = re.compile(r'Apple|Orange')\n",
    "f1 = Fruits.search('Apple and Orange')\n",
    "f1.group()"
   ]
  },
  {
   "cell_type": "code",
   "execution_count": 86,
   "id": "c0b80a9f",
   "metadata": {},
   "outputs": [
    {
     "data": {
      "text/plain": [
       "'Orange'"
      ]
     },
     "execution_count": 86,
     "metadata": {},
     "output_type": "execute_result"
    }
   ],
   "source": [
    "f2 = Fruits.search('Orange and Apple')\n",
    "f2.group()"
   ]
  },
  {
   "cell_type": "markdown",
   "id": "7f208756",
   "metadata": {},
   "source": [
    "#### 9. In regular expressions, what does the character stand for?"
   ]
  },
  {
   "cell_type": "markdown",
   "id": "2fc108eb",
   "metadata": {},
   "source": [
    "**Ans:** The `?` Character can either mean \"match zero or one of the preceding group\""
   ]
  },
  {
   "cell_type": "code",
   "execution_count": 87,
   "id": "bad752fa",
   "metadata": {},
   "outputs": [
    {
     "data": {
      "text/plain": [
       "'Batman'"
      ]
     },
     "execution_count": 87,
     "metadata": {},
     "output_type": "execute_result"
    }
   ],
   "source": [
    "txt = 'The Adventures of Batman'\n",
    "batRegex = re.compile(r'Bat(wo)?man')\n",
    "a= batRegex.search(txt)\n",
    "a.group()"
   ]
  },
  {
   "cell_type": "code",
   "execution_count": 88,
   "id": "c5017f48",
   "metadata": {},
   "outputs": [
    {
     "data": {
      "text/plain": [
       "'Batwoman'"
      ]
     },
     "execution_count": 88,
     "metadata": {},
     "output_type": "execute_result"
    }
   ],
   "source": [
    "txt1 = 'The Adventures of Batwoman'\n",
    "b= batRegex.search(txt1)\n",
    "b.group()"
   ]
  },
  {
   "cell_type": "markdown",
   "id": "f4eb8dae",
   "metadata": {},
   "source": [
    "#### 10.In regular expressions, what is the difference between the + and * characters?"
   ]
  },
  {
   "cell_type": "markdown",
   "id": "37e061f6",
   "metadata": {},
   "source": [
    "**Ans:** \n",
    "\n",
    "`+` Means one or more\n",
    "\n",
    "`*` Means zero or more\n"
   ]
  },
  {
   "cell_type": "markdown",
   "id": "eb3ee85b",
   "metadata": {},
   "source": [
    "#### 11. What is the difference between {4} and {4,5} in regular expression?"
   ]
  },
  {
   "cell_type": "markdown",
   "id": "d9b2758c",
   "metadata": {},
   "source": [
    "**Ans:** \n",
    "\n",
    "`{4}` Matches exactly 4 instances of thr proceding group.\n",
    "\n",
    "`{4,5}` Matches between four and five instances."
   ]
  },
  {
   "cell_type": "markdown",
   "id": "b6e2ce0a",
   "metadata": {},
   "source": [
    "#### 12. What do you mean by the \\d, \\w, and \\s shorthand character classes signify in regular expressions?"
   ]
  },
  {
   "cell_type": "markdown",
   "id": "d5e0d499",
   "metadata": {},
   "source": [
    "**Ans:** \n",
    "\n",
    "`\\d` - > Returns a match for single digit from `0` to `9`\n",
    "\n",
    "`\\w` - > Returns a match where the string contains any word characters (characters from `a to z`, digits from `0-9`, and underscore`_`character)\n",
    "\n",
    "`\\s` - > Returns a match where the string contain a white space chracter,Any space, tab, or newline character."
   ]
  },
  {
   "cell_type": "markdown",
   "id": "e73e051c",
   "metadata": {},
   "source": [
    "#### 13. What do means by \\D, \\W, and \\S shorthand character classes signify in regular expressions?"
   ]
  },
  {
   "cell_type": "markdown",
   "id": "aa7ab9ed",
   "metadata": {},
   "source": [
    "**Ans:**\n",
    "\n",
    "`\\D` - > Any character that is not a numeric digit from `0 to 9`.\n",
    "\n",
    "`\\W` - > Any character that is not a letter, numeric digit, or the underscore character.\n",
    "\n",
    "`\\S` - > Any character that is not a space, tab, or newline."
   ]
  },
  {
   "cell_type": "markdown",
   "id": "dc647dcd",
   "metadata": {},
   "source": [
    "#### 14. What is the difference between . \\*and .\\*?"
   ]
  },
  {
   "cell_type": "markdown",
   "id": "5e8570f4",
   "metadata": {},
   "source": [
    "**Ans:** \n",
    "\n",
    "`.*`  - > The dot uses greedy mode: It will always try to match as much text as possible.\n",
    "\n",
    "`.*?` - > To match any and all text in a non-greedy fashion, use the dot,star,and question marks (.*?). Like with braces, the question mark tells python to match in a non-greedy way."
   ]
  },
  {
   "cell_type": "code",
   "execution_count": 89,
   "id": "0f35d5be",
   "metadata": {},
   "outputs": [
    {
     "data": {
      "text/plain": [
       "'<To serve man> for dinner.>'"
      ]
     },
     "execution_count": 89,
     "metadata": {},
     "output_type": "execute_result"
    }
   ],
   "source": [
    "greedyRegex = re.compile(r'<.*>')\n",
    "mo = greedyRegex.search('<To serve man> for dinner.>')\n",
    "mo.group()"
   ]
  },
  {
   "cell_type": "code",
   "execution_count": 90,
   "id": "cf5a707a",
   "metadata": {},
   "outputs": [
    {
     "data": {
      "text/plain": [
       "'<To serve man>'"
      ]
     },
     "execution_count": 90,
     "metadata": {},
     "output_type": "execute_result"
    }
   ],
   "source": [
    "nongreedyRegex = re.compile(r'<.*?>')\n",
    "mo = nongreedyRegex.search('<To serve man> for dinner.>')\n",
    "mo.group()"
   ]
  },
  {
   "cell_type": "markdown",
   "id": "f12b717b",
   "metadata": {},
   "source": [
    "#### 15. What is the syntax for matching both numbers and lowercase letters with a character class?"
   ]
  },
  {
   "cell_type": "markdown",
   "id": "c9f47a44",
   "metadata": {},
   "source": [
    "**Ans:**"
   ]
  },
  {
   "cell_type": "code",
   "execution_count": 91,
   "id": "31aa26f6",
   "metadata": {},
   "outputs": [],
   "source": [
    "def match(text):\n",
    "    patterns = '^[a-z0-9]*$'\n",
    "    if re.search(patterns,text):\n",
    "        return \"Matched\"\n",
    "    else:\n",
    "        return \"Not matched\""
   ]
  },
  {
   "cell_type": "code",
   "execution_count": 92,
   "id": "59beda41",
   "metadata": {},
   "outputs": [
    {
     "data": {
      "text/plain": [
       "'Matched'"
      ]
     },
     "execution_count": 92,
     "metadata": {},
     "output_type": "execute_result"
    }
   ],
   "source": [
    "match(\"unkown123\")"
   ]
  },
  {
   "cell_type": "markdown",
   "id": "27429675",
   "metadata": {},
   "source": [
    "#### 16. What is the procedure for making a normal expression in regax case insensitive?"
   ]
  },
  {
   "cell_type": "markdown",
   "id": "24461610",
   "metadata": {},
   "source": [
    "**Ans:** Passing `re.I` or `re.IGNORECASE` as the second argument to re.compile() will make the matching case insensitive"
   ]
  },
  {
   "cell_type": "code",
   "execution_count": 93,
   "id": "da834bba",
   "metadata": {},
   "outputs": [
    {
     "data": {
      "text/plain": [
       "'Abc'"
      ]
     },
     "execution_count": 93,
     "metadata": {},
     "output_type": "execute_result"
    }
   ],
   "source": [
    "casesense = re.compile( '([a-z]+)',re.I)\n",
    "casesense.search('Abc is abc').group()"
   ]
  },
  {
   "cell_type": "markdown",
   "id": "a22ae63e",
   "metadata": {},
   "source": [
    "#### 17. What does the . character normally match? What does it match if re.DOTALL is passed as 2nd argument in re.compile()?"
   ]
  },
  {
   "cell_type": "markdown",
   "id": "6d0e00da",
   "metadata": {},
   "source": [
    "**Ans:** \\\n",
    "Dot character matches everything in input except newline character.\n",
    "\\\n",
    "By passing re.DOTALL as the second argument to re.compile(), we can match the dot character match all characters, includinig the newline character."
   ]
  },
  {
   "cell_type": "markdown",
   "id": "0a5e8686",
   "metadata": {},
   "source": [
    "#### 18. If numReg = re.compile(r'\\d+'), what will numRegex.sub('X', '11 drummers, 10 pipers, five rings, 4 hen') return?"
   ]
  },
  {
   "cell_type": "code",
   "execution_count": 94,
   "id": "0221f3eb",
   "metadata": {},
   "outputs": [
    {
     "data": {
      "text/plain": [
       "'X drummers, X pipers, five rings, X hen'"
      ]
     },
     "execution_count": 94,
     "metadata": {},
     "output_type": "execute_result"
    }
   ],
   "source": [
    "numRegex = re.compile(r'\\d+')\n",
    "numRegex.sub('X', '11 drummers, 10 pipers, five rings, 4 hen') "
   ]
  },
  {
   "cell_type": "markdown",
   "id": "528b26cd",
   "metadata": {},
   "source": [
    "#### 19. What does passing re.VERBOSE as the 2nd argument to re.compile() allow to do?"
   ]
  },
  {
   "cell_type": "markdown",
   "id": "27071f76",
   "metadata": {},
   "source": [
    "**Ans:** The `re.VERBOSE` argument allows to add whitespace and comments to the string passed to `re.compile()`"
   ]
  },
  {
   "cell_type": "markdown",
   "id": "b8d8696c",
   "metadata": {},
   "source": [
    "#### 20. How would you write a regex that match a number with comma for every three digits? It must match the given following:\n",
    "\n",
    "#### '42'\n",
    "\n",
    "#### '1,234'\n",
    "\n",
    "#### '6,368,745'\n",
    "\n",
    "#### but not the following:\n",
    "\n",
    "#### '12,34,567' (which has only two digits between the commas)\n",
    "\n",
    "#### '1234' (which lacks commas)\n",
    "\n"
   ]
  },
  {
   "cell_type": "code",
   "execution_count": 95,
   "id": "15f9cc5f",
   "metadata": {},
   "outputs": [],
   "source": [
    "test1 =  re.compile(r'^\\d{1,3}(,\\d{3})*$')"
   ]
  },
  {
   "cell_type": "code",
   "execution_count": 96,
   "id": "326d560f",
   "metadata": {},
   "outputs": [
    {
     "data": {
      "text/plain": [
       "'42'"
      ]
     },
     "execution_count": 96,
     "metadata": {},
     "output_type": "execute_result"
    }
   ],
   "source": [
    "m1 = test1.search('42')\n",
    "m1.group()"
   ]
  },
  {
   "cell_type": "code",
   "execution_count": 97,
   "id": "1bbbf7ef",
   "metadata": {},
   "outputs": [
    {
     "data": {
      "text/plain": [
       "'1,234'"
      ]
     },
     "execution_count": 97,
     "metadata": {},
     "output_type": "execute_result"
    }
   ],
   "source": [
    "m1 = test1.search('1,234')\n",
    "m1.group()"
   ]
  },
  {
   "cell_type": "code",
   "execution_count": 98,
   "id": "934c7874",
   "metadata": {},
   "outputs": [
    {
     "data": {
      "text/plain": [
       "'6,368,745'"
      ]
     },
     "execution_count": 98,
     "metadata": {},
     "output_type": "execute_result"
    }
   ],
   "source": [
    "m1 = test1.search('6,368,745')\n",
    "m1.group()"
   ]
  },
  {
   "cell_type": "markdown",
   "id": "aed4597f",
   "metadata": {},
   "source": [
    "#### 21. How would you write a regex that matches the full name of someone whose last name is Watanabe? You can assume that the first name that comes before it will always be one word that begins with a capital letter. The regex must match the following:\n",
    "#### 'Haruto Watanabe'\n",
    "\n",
    "#### 'Alice Watanabe'\n",
    "\n",
    "#### 'RoboCop Watanabe'\n",
    "\n",
    "#### but not the following:\n",
    "\n",
    "#### 'haruto Watanabe' (where the first name is not capitalized)\n",
    "\n",
    "#### 'Mr. Watanabe' (where the preceding word has a nonletter character)\n",
    "\n",
    "#### 'Watanabe' (which has no first name)\n",
    "\n",
    "#### 'Haruto watanabe' (where Watanabe is not capitalized)\n"
   ]
  },
  {
   "cell_type": "code",
   "execution_count": 99,
   "id": "d197c65b",
   "metadata": {},
   "outputs": [],
   "source": [
    "a= re.compile(r'[A-Z][a-z]*\\sWatanabe')"
   ]
  },
  {
   "cell_type": "code",
   "execution_count": 100,
   "id": "6aec911a",
   "metadata": {},
   "outputs": [
    {
     "data": {
      "text/plain": [
       "'Haruto Watanabe'"
      ]
     },
     "execution_count": 100,
     "metadata": {},
     "output_type": "execute_result"
    }
   ],
   "source": [
    "m2 = a.search('Haruto Watanabe')\n",
    "m2.group()"
   ]
  },
  {
   "cell_type": "code",
   "execution_count": 101,
   "id": "493a4727",
   "metadata": {},
   "outputs": [
    {
     "data": {
      "text/plain": [
       "'Alice Watanabe'"
      ]
     },
     "execution_count": 101,
     "metadata": {},
     "output_type": "execute_result"
    }
   ],
   "source": [
    "m2 = a.search('Alice Watanabe')\n",
    "m2.group()"
   ]
  },
  {
   "cell_type": "code",
   "execution_count": 102,
   "id": "1e591151",
   "metadata": {},
   "outputs": [
    {
     "data": {
      "text/plain": [
       "'Cop Watanabe'"
      ]
     },
     "execution_count": 102,
     "metadata": {},
     "output_type": "execute_result"
    }
   ],
   "source": [
    "m2 = a.search('RoboCop Watanabe')\n",
    "m2.group()"
   ]
  },
  {
   "cell_type": "markdown",
   "id": "ebd9a87e",
   "metadata": {},
   "source": [
    "#### 22. How would you write a regex that matches a sentence where the first word is either Alice, Bob, or Carol; the second word is either eats, pets, or throws; the third word is apples, cats, or baseballs; and the sentence ends with a period? This regex should be case-insensitive. It must match the following:\n",
    "#### 'Alice eats apples.'\n",
    "#### 'Bob pets cats.'\n",
    "#### 'Carol throws baseballs.'\n",
    "#### 'Alice throws Apples.'\n",
    "#### 'BOB EATS CATS.'\n",
    "#### but not the following:\n",
    "#### 'RoboCop eats apples.'\n",
    "#### 'ALICE THROWS FOOTBALLS.'\n",
    "#### 'Carol eats 7 cats.'\n"
   ]
  },
  {
   "cell_type": "code",
   "execution_count": 103,
   "id": "93ac4bdb",
   "metadata": {},
   "outputs": [],
   "source": [
    "test3 = re.compile(r'(Alice|Bob|Carol)\\s(eats|pets|throws)\\s(apples|cats|baseballs)\\.', re.IGNORECASE)"
   ]
  },
  {
   "cell_type": "code",
   "execution_count": 104,
   "id": "516d1a18",
   "metadata": {},
   "outputs": [
    {
     "data": {
      "text/plain": [
       "'Alice eats apples.'"
      ]
     },
     "execution_count": 104,
     "metadata": {},
     "output_type": "execute_result"
    }
   ],
   "source": [
    "ou1 = test3.search('Alice eats apples.')\n",
    "ou1.group()"
   ]
  }
 ],
 "metadata": {
  "kernelspec": {
   "display_name": "Python 3 (ipykernel)",
   "language": "python",
   "name": "python3"
  },
  "language_info": {
   "codemirror_mode": {
    "name": "ipython",
    "version": 3
   },
   "file_extension": ".py",
   "mimetype": "text/x-python",
   "name": "python",
   "nbconvert_exporter": "python",
   "pygments_lexer": "ipython3",
   "version": "3.9.12"
  }
 },
 "nbformat": 4,
 "nbformat_minor": 5
}
