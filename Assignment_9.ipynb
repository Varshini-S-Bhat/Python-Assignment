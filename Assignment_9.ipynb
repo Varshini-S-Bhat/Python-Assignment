{
 "cells": [
  {
   "cell_type": "markdown",
   "id": "bdf1206d",
   "metadata": {},
   "source": [
    "#### 1. To what does a relative path refer?"
   ]
  },
  {
   "cell_type": "markdown",
   "id": "4eafd649",
   "metadata": {},
   "source": [
    "**Ans:** Relative path refers to current working directory path."
   ]
  },
  {
   "cell_type": "code",
   "execution_count": 1,
   "id": "2abbc889",
   "metadata": {},
   "outputs": [
    {
     "data": {
      "text/plain": [
       "'Assignment\\\\Assignment_9.ipynb'"
      ]
     },
     "execution_count": 1,
     "metadata": {},
     "output_type": "execute_result"
    }
   ],
   "source": [
    "import os\n",
    "path = (r\"C:\\Users\\vys\\Assignment\\Assignment_9.ipynb\")\n",
    "os.path.relpath(path)"
   ]
  },
  {
   "cell_type": "markdown",
   "id": "24ba9b96",
   "metadata": {},
   "source": [
    "#### 2. What does an absolute path start with your operating system?"
   ]
  },
  {
   "cell_type": "markdown",
   "id": "f42e4efc",
   "metadata": {},
   "source": [
    "**Ans:** Absolute paths start with the root folder,such as `/ `or `C:\\`"
   ]
  },
  {
   "cell_type": "code",
   "execution_count": 2,
   "id": "545bbf7c",
   "metadata": {},
   "outputs": [
    {
     "data": {
      "text/plain": [
       "'C:\\\\Users\\\\vys\\\\Assignment\\\\Assignment_9.ipynb'"
      ]
     },
     "execution_count": 2,
     "metadata": {},
     "output_type": "execute_result"
    }
   ],
   "source": [
    "import os\n",
    "path = (r\"C:\\Users\\vys\\Assignment\\Assignment_9.ipynb\")\n",
    "os.path.abspath(path)"
   ]
  },
  {
   "cell_type": "markdown",
   "id": "76bc3754",
   "metadata": {},
   "source": [
    "#### 3. What do the functions os.getcwd() and os.chdir() do?"
   ]
  },
  {
   "cell_type": "markdown",
   "id": "aca59451",
   "metadata": {},
   "source": [
    "**Ans:**\n",
    "\n",
    "`os.getcwd()` ->  function returns the current working directory.\n",
    "\n",
    "`os.chdir()`  ->  function changes the current working directory."
   ]
  },
  {
   "cell_type": "markdown",
   "id": "05363801",
   "metadata": {},
   "source": [
    "#### 4. What are the . and .. folders?"
   ]
  },
  {
   "cell_type": "markdown",
   "id": "14ddf5f6",
   "metadata": {},
   "source": [
    "**Ans:**\n",
    "\n",
    "`.`   -> Folder is the current folder\n",
    "\n",
    "`..`  -> Folder is the parent folder"
   ]
  },
  {
   "cell_type": "markdown",
   "id": "455de006",
   "metadata": {},
   "source": [
    "#### 5. In C:\\bacon\\eggs\\spam.txt, which part is the dir name, and which part is the base name?"
   ]
  },
  {
   "cell_type": "markdown",
   "id": "5573df83",
   "metadata": {},
   "source": [
    "**Ans:** \n",
    "\n",
    "`C:\\bacon\\eggs` --> dir name\n",
    "\n",
    "`spam.txt` --> base name\n"
   ]
  },
  {
   "cell_type": "markdown",
   "id": "b6711c59",
   "metadata": {},
   "source": [
    "#### 6. What are the three “mode” arguments that can be passed to the open() function?"
   ]
  },
  {
   "cell_type": "markdown",
   "id": "ea08bce2",
   "metadata": {},
   "source": [
    "**Ans:**\n",
    "\n",
    "`r` --> open for reading in text mode.\n",
    "\n",
    "`w` --> open for writing.\n",
    "\n",
    "`a` --> open for appending.\n"
   ]
  },
  {
   "cell_type": "markdown",
   "id": "1ca74271",
   "metadata": {},
   "source": [
    "#### 7. What happens if an existing file is opened in write mode?"
   ]
  },
  {
   "cell_type": "markdown",
   "id": "520481d7",
   "metadata": {},
   "source": [
    "**Ans:** An existing file opened in write mode is erased and completely overwritten."
   ]
  },
  {
   "cell_type": "markdown",
   "id": "baf3de90",
   "metadata": {},
   "source": [
    "#### 8. How do you tell the difference between read() and readlines()?"
   ]
  },
  {
   "cell_type": "markdown",
   "id": "284f1b6e",
   "metadata": {},
   "source": [
    "**Ans:** \n",
    "\n",
    "`read()`      --> method returns the file’s entire contents as a single string value.\n",
    "\n",
    "`readlines()` --> method returns a list of strings, where each string is a line from the file’s contents."
   ]
  },
  {
   "cell_type": "markdown",
   "id": "03fa0dbf",
   "metadata": {},
   "source": [
    "#### 9. What data structure does a shelf value resemble?"
   ]
  },
  {
   "cell_type": "markdown",
   "id": "c4533999",
   "metadata": {},
   "source": [
    "**Ans:** A shelf value resembles a dictionary value, it has keys and values, along with `keys()` and `values()` methods that work similarly to the dictionary methods of the same names"
   ]
  }
 ],
 "metadata": {
  "kernelspec": {
   "display_name": "Python 3 (ipykernel)",
   "language": "python",
   "name": "python3"
  },
  "language_info": {
   "codemirror_mode": {
    "name": "ipython",
    "version": 3
   },
   "file_extension": ".py",
   "mimetype": "text/x-python",
   "name": "python",
   "nbconvert_exporter": "python",
   "pygments_lexer": "ipython3",
   "version": "3.9.7"
  }
 },
 "nbformat": 4,
 "nbformat_minor": 5
}
