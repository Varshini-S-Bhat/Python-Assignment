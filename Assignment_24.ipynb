{
 "cells": [
  {
   "cell_type": "markdown",
   "id": "ee4e84c4",
   "metadata": {},
   "source": [
    "#### 1. What is the relationship between def statements and lambda expressions ?"
   ]
  },
  {
   "cell_type": "markdown",
   "id": "da293778",
   "metadata": {},
   "source": [
    "**Ans:**"
   ]
  },
  {
   "cell_type": "markdown",
   "id": "0c87e282",
   "metadata": {},
   "source": [
    "`def` statement is used to create a normal function. where as `lamba` expressions are used to create `Anonymous functions`. which can be assigned to a variable and can be called using the variable later in function.\n",
    "\n",
    "Lambda's body is a single expression and not a block of statements like def statement. The lambda expression's body is similar to what we'd put in a def body's return statement. We simply type the result as an expression instead of explicitly returning it. Because it is limited to an expression, a lambda is less general than a def statement."
   ]
  },
  {
   "cell_type": "markdown",
   "id": "ea19f6fe",
   "metadata": {},
   "source": [
    "#### 2. What is the benefit of lambda?"
   ]
  },
  {
   "cell_type": "markdown",
   "id": "b0ead2f7",
   "metadata": {},
   "source": [
    "**Ans:**"
   ]
  },
  {
   "cell_type": "markdown",
   "id": "7b0369ab",
   "metadata": {},
   "source": [
    "The following are some of the benefits of lambda expressions:\n",
    "\n",
    "1.Can be used to create Nameless/Anonymous functions inside some complex functions if we are planning to use it only once.\n",
    "\n",
    "2.Moderate to small functions can be created in a single line \n",
    "\n",
    "3.Fuctions created using lambda expressions can be assigned to a variable and can be used by simply calling the variable"
   ]
  },
  {
   "cell_type": "markdown",
   "id": "b3110241",
   "metadata": {},
   "source": [
    "#### 3. Compare and contrast map, filter, and reduce."
   ]
  },
  {
   "cell_type": "markdown",
   "id": "7cf7fc1b",
   "metadata": {},
   "source": [
    "**Ans:**"
   ]
  },
  {
   "cell_type": "markdown",
   "id": "29fa73d7",
   "metadata": {},
   "source": [
    "`map()` applies as a transformation to an element. The map() function iterates through all items in the given iterable and executes the function we passed as an argument on each of them. Syntax : map(function, iterable(s))\n",
    "\n",
    "`filter()` accumulates only elements matching a condition. filter() forms a new list that contains only elements that satisfy a certain condition, i.e. the function we passed returns True Syntax : filter(function, iterable(s))\n",
    "\n",
    "`reduce()` accumulates all elements to a single value, by using immutable values reduce() works by calling the function we passed for the first two items in the sequence. The result returned by the function is used in another call to function alongside with the next (third in this case), element Syntax : reduce(function, sequence[, initial])\n"
   ]
  },
  {
   "cell_type": "code",
   "execution_count": 5,
   "id": "8ba7edb0",
   "metadata": {},
   "outputs": [
    {
     "name": "stdout",
     "output_type": "stream",
     "text": [
      "Map -> [2, 4, 6, 8]\n",
      "Filter -> [1, 3]\n",
      "Reduce -> 21\n"
     ]
    }
   ],
   "source": [
    "from functools import reduce\n",
    "# map function\n",
    "print('Map ->',list(map(lambda x:x+x, [1,2,3,4])))\n",
    "# fitler function\n",
    "print('Filter ->',list(filter(lambda x:x%2 !=0, [1,2,3,4])))\n",
    "# reduce function\n",
    "print('Reduce ->',reduce(lambda x,y:x+y, [1,2,3,4,5,6]))"
   ]
  },
  {
   "cell_type": "markdown",
   "id": "d0f02cce",
   "metadata": {},
   "source": [
    "#### 4. What are function annotations, and how are they used?"
   ]
  },
  {
   "cell_type": "markdown",
   "id": "37e367a8",
   "metadata": {},
   "source": [
    "**Ans:**"
   ]
  },
  {
   "cell_type": "markdown",
   "id": "ac6cfbc6",
   "metadata": {},
   "source": [
    "Function annotation is the standard way to access the metadata with the arguments and the return value of the function. These are optional Python expressions that get allied to different parts of the function. They get evaluated only during the compile-time and have no significance during the run-time of the code. They do not have any significance or meaning associated with them until accessed by some third-party libraries. They are used to type check the functions by declaring the type of the parameters and the return value for the functions. The string-based annotations help us to improve the help messages.\n",
    "\n",
    "Syntax : def func(a: 'int') -> 'int': pass\n",
    "\n",
    "Annotations for simple parameters: def func(x: 'float'=10.8, y: 'argument2'): In the above code the argument, ‘x’ of the function func, has been annotated to float data type and the argument ‘y’ has a string-based annotation. The argument can also be assigned to a default value using a ‘=’ symbol followed by the default value. These default values are optional to the code.\n",
    "\n",
    "Annotations for return values: def func(a: expression) -> 'int': The annotations for the return value is written after the ‘->’ symbol."
   ]
  },
  {
   "cell_type": "markdown",
   "id": "b03d14eb",
   "metadata": {},
   "source": [
    "#### 5. What are recursive functions, and how are they used?"
   ]
  },
  {
   "cell_type": "markdown",
   "id": "ce847b4a",
   "metadata": {},
   "source": [
    "**Ans:**"
   ]
  },
  {
   "cell_type": "markdown",
   "id": "66c3e986",
   "metadata": {},
   "source": [
    "A recursive function is a function that calls itself during its execution. This means that the function will continue to call itself and repeat its behavior until some condition is met to return a result"
   ]
  },
  {
   "cell_type": "code",
   "execution_count": 6,
   "id": "a2037cf5",
   "metadata": {},
   "outputs": [
    {
     "data": {
      "text/plain": [
       "6"
      ]
     },
     "execution_count": 6,
     "metadata": {},
     "output_type": "execute_result"
    }
   ],
   "source": [
    "def fact(x):\n",
    "    if x == 1 :\n",
    "        return 1\n",
    "    else :\n",
    "        return x * fact(x-1) # recursion\n",
    "\n",
    "fact(3)"
   ]
  },
  {
   "cell_type": "markdown",
   "id": "70345979",
   "metadata": {},
   "source": [
    "#### 6. What are some general design guidelines for coding functions?"
   ]
  },
  {
   "cell_type": "markdown",
   "id": "082afd84",
   "metadata": {},
   "source": [
    "**Ans:**"
   ]
  },
  {
   "cell_type": "markdown",
   "id": "8eeec47c",
   "metadata": {},
   "source": [
    "* Use 4-space indentation and no tabs.\n",
    "* Use docstrings\n",
    "* Wrap linethat they don’t exceed 79 characters\n",
    "* Use of regular and updated comments are valuable to both the coders and users\n",
    "* Use of trailing commas : in case of tuple -> ('good',)\n",
    "* Use Python’s default UTF-8 or ASCII encodings and not any fancy encodings\n",
    "* Naming Conventions 8.Characters that should not be used for identifiers: ‘l’ (lowercase letter el), ‘O’ (uppercase letter oh), ‘I’ (uppercase letter eye) as single character variable names as these are similar to the numerals one and zero.\n",
    "* Don’t use non-ASCII characters in identifiers\n",
    "* Name your classes and functions consistently\n",
    "* While naming of function of methods always use self for the first argument"
   ]
  },
  {
   "cell_type": "markdown",
   "id": "206d97be",
   "metadata": {},
   "source": [
    "#### 7. Name three or more ways that functions can communicate results to a caller."
   ]
  },
  {
   "cell_type": "markdown",
   "id": "797f6670",
   "metadata": {},
   "source": [
    "**Ans:**"
   ]
  },
  {
   "cell_type": "markdown",
   "id": "af98b2ed",
   "metadata": {},
   "source": [
    "Some of the ways in which a function can communicate with the calling function is:\n",
    "\n",
    "1. print\n",
    "2. return\n",
    "3. yield"
   ]
  }
 ],
 "metadata": {
  "kernelspec": {
   "display_name": "Python 3 (ipykernel)",
   "language": "python",
   "name": "python3"
  },
  "language_info": {
   "codemirror_mode": {
    "name": "ipython",
    "version": 3
   },
   "file_extension": ".py",
   "mimetype": "text/x-python",
   "name": "python",
   "nbconvert_exporter": "python",
   "pygments_lexer": "ipython3",
   "version": "3.9.12"
  }
 },
 "nbformat": 4,
 "nbformat_minor": 5
}
