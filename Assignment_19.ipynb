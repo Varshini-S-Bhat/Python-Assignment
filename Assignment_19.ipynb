{
 "cells": [
  {
   "cell_type": "markdown",
   "id": "f5adc467",
   "metadata": {},
   "source": [
    "#### 1. Make a class called Thing with no contents and print it. Then, create an object called example from this class and also print it. Are the printed values the same or different?"
   ]
  },
  {
   "cell_type": "markdown",
   "id": "2834e9d0",
   "metadata": {},
   "source": [
    "**Ans:**"
   ]
  },
  {
   "cell_type": "code",
   "execution_count": 1,
   "id": "60c5c638",
   "metadata": {},
   "outputs": [
    {
     "name": "stdout",
     "output_type": "stream",
     "text": [
      "<class '__main__.Thing'>\n",
      "<__main__.Thing object at 0x000001DF78E43E50>\n"
     ]
    }
   ],
   "source": [
    "class Thing:\n",
    "    pass\n",
    "\n",
    "print(Thing)\n",
    "\n",
    "example = Thing()\n",
    "print(example)"
   ]
  },
  {
   "cell_type": "markdown",
   "id": "33b8e35d",
   "metadata": {},
   "source": [
    "#### 2. Create a new class called Thing2 and add the value 'abc' to the letters class attribute. Letters should be printed."
   ]
  },
  {
   "cell_type": "markdown",
   "id": "faa4f94c",
   "metadata": {},
   "source": [
    "**Ans:**"
   ]
  },
  {
   "cell_type": "code",
   "execution_count": 2,
   "id": "2f14ec1f",
   "metadata": {},
   "outputs": [
    {
     "data": {
      "text/plain": [
       "'abc'"
      ]
     },
     "execution_count": 2,
     "metadata": {},
     "output_type": "execute_result"
    }
   ],
   "source": [
    "class Things2:\n",
    "    letters = \"abc\"\n",
    "\n",
    "Things2.letters"
   ]
  },
  {
   "cell_type": "markdown",
   "id": "96ad79c1",
   "metadata": {},
   "source": [
    "#### 3. Make yet another class called, of course, Thing3. This time, assign the value 'xyz' to an instance (object) attribute called letters. Print letters. Do you need to make an object from the class to do this?"
   ]
  },
  {
   "cell_type": "markdown",
   "id": "0f666056",
   "metadata": {},
   "source": [
    "**Ans:**"
   ]
  },
  {
   "cell_type": "code",
   "execution_count": 3,
   "id": "19fff2bc",
   "metadata": {},
   "outputs": [
    {
     "name": "stdout",
     "output_type": "stream",
     "text": [
      "xyz\n"
     ]
    }
   ],
   "source": [
    "class Things3:\n",
    "    def __init__(self):\n",
    "        self.letters = 'xyz'\n",
    "        \n",
    "try:\n",
    "    print(Things3.letters)\n",
    "    \n",
    "except:\n",
    "    my_thing = Things3()\n",
    "    print(my_thing.letters)"
   ]
  },
  {
   "cell_type": "markdown",
   "id": "828253b3",
   "metadata": {},
   "source": [
    "#### 4. Create an Element class with the instance attributes name, symbol, and number. Create a class object with the values 'Hydrogen,' 'H,' and 1."
   ]
  },
  {
   "cell_type": "markdown",
   "id": "d1375a9d",
   "metadata": {},
   "source": [
    "**Ans:**"
   ]
  },
  {
   "cell_type": "code",
   "execution_count": 4,
   "id": "96355491",
   "metadata": {},
   "outputs": [
    {
     "name": "stdout",
     "output_type": "stream",
     "text": [
      "\n",
      " name: Hydrogen \n",
      " symbol: H \n",
      " number: 1\n",
      "<__main__.Element object at 0x000001DF78E86640>\n"
     ]
    }
   ],
   "source": [
    "class Element:\n",
    "    def __init__(self,name,symbol,number):\n",
    "        self.name = name\n",
    "        self.symbol = symbol\n",
    "        self.number = number\n",
    "        print(\"\\n name: {} \\n symbol: {} \\n number: {}\".format(self.name,self.symbol,self.number))\n",
    "        \n",
    "my_element = Element('Hydrogen','H',1)\n",
    "print(my_element)"
   ]
  },
  {
   "cell_type": "markdown",
   "id": "15e733a1",
   "metadata": {},
   "source": [
    "#### 5. Make a dictionary with these keys and values: 'name': 'Hydrogen', 'symbol': 'H', 'number': 1. Then, create an object called hydrogen from class Element using this dictionary."
   ]
  },
  {
   "cell_type": "markdown",
   "id": "77cf50b1",
   "metadata": {},
   "source": [
    "**Ans:**"
   ]
  },
  {
   "cell_type": "code",
   "execution_count": 5,
   "id": "6fcf54ac",
   "metadata": {},
   "outputs": [
    {
     "name": "stdout",
     "output_type": "stream",
     "text": [
      "\n",
      " name: Hydrogen \n",
      " symbol: H \n",
      " number: 1\n",
      "<__main__.Element object at 0x000001DF78E86700>\n"
     ]
    }
   ],
   "source": [
    "ele_dict = {'name': 'Hydrogen', 'symbol': 'H', 'number': 1}\n",
    "\n",
    "hydrogen = Element(**ele_dict) #single * gives key, ** gives values\n",
    "print(hydrogen)"
   ]
  },
  {
   "cell_type": "markdown",
   "id": "3ca9020d",
   "metadata": {},
   "source": [
    "#### 6. For the Element class, define a method called dump() that prints the values of the object’s attributes (name, symbol, and number). Create the hydrogen object from this new definition and use dump() to print its attributes."
   ]
  },
  {
   "cell_type": "markdown",
   "id": "a29df0e0",
   "metadata": {},
   "source": [
    "**Ans:**"
   ]
  },
  {
   "cell_type": "code",
   "execution_count": 6,
   "id": "e26544fc",
   "metadata": {},
   "outputs": [
    {
     "name": "stdout",
     "output_type": "stream",
     "text": [
      "Hydrogen H 1\n"
     ]
    }
   ],
   "source": [
    "class Element:\n",
    "    def __init__(self,name,symbol,number):\n",
    "        self.name = name\n",
    "        self.symbol = symbol\n",
    "        self.number = number\n",
    "    def dump(self):\n",
    "        print(self.name,self.symbol,self.number)\n",
    "        \n",
    "hydrogen = Element('Hydrogen','H',1)\n",
    "hydrogen.dump()"
   ]
  },
  {
   "cell_type": "markdown",
   "id": "8f3e3fa5",
   "metadata": {},
   "source": [
    "#### 7. Call print(hydrogen). In the definition of Element, change the name of method dump to ` __str__`, create a new hydrogen object, and call print(hydrogen) again."
   ]
  },
  {
   "cell_type": "markdown",
   "id": "a6ca8625",
   "metadata": {},
   "source": [
    "**Ans:**"
   ]
  },
  {
   "cell_type": "code",
   "execution_count": 7,
   "id": "14b9fb9e",
   "metadata": {},
   "outputs": [
    {
     "name": "stdout",
     "output_type": "stream",
     "text": [
      "<__main__.Element object at 0x000001DF78E43AF0>\n",
      "Hydrogen H 1\n"
     ]
    }
   ],
   "source": [
    "print(hydrogen)\n",
    "\n",
    "class Element:\n",
    "    def __init__(self, name, symbol, number):\n",
    "        self.name = name\n",
    "        self.symbol = symbol\n",
    "        self.number = number\n",
    "    def __str__(self):\n",
    "        return f'{self.name} {self.symbol} {self.number}'\n",
    "    \n",
    "Hydrogen = Element('Hydrogen','H',1)\n",
    "print(Hydrogen)"
   ]
  },
  {
   "cell_type": "markdown",
   "id": "2eb8f036",
   "metadata": {},
   "source": [
    "#### 8. Modify Element to make the attributes name, symbol, and number private. Define a getter property for each to return its value."
   ]
  },
  {
   "cell_type": "markdown",
   "id": "5787e3d3",
   "metadata": {},
   "source": [
    "**Ans:**"
   ]
  },
  {
   "cell_type": "code",
   "execution_count": 8,
   "id": "cf1905a3",
   "metadata": {},
   "outputs": [
    {
     "name": "stdout",
     "output_type": "stream",
     "text": [
      "Hydrogen\n",
      "H\n",
      "1\n"
     ]
    }
   ],
   "source": [
    "class Element:\n",
    "    def __init__(self,name,symbol,number):\n",
    "        self.__name = name\n",
    "        self.__symbol = symbol\n",
    "        self.__number = number\n",
    "        \n",
    "    @property\n",
    "    def get_name(self):\n",
    "        return self.__name\n",
    "        \n",
    "    @property\n",
    "    def get_symbol(self):\n",
    "        return self.__symbol\n",
    "\n",
    "    @property\n",
    "    def get_number(self):\n",
    "        return self.__number\n",
    "        \n",
    "hydrogen = Element('Hydrogen','H',1)\n",
    "print(hydrogen.get_name)\n",
    "print(hydrogen.get_symbol)\n",
    "print(hydrogen.get_number)"
   ]
  },
  {
   "cell_type": "markdown",
   "id": "17b38ecf",
   "metadata": {},
   "source": [
    "#### 9. Define three classes: Bear, Rabbit, and Octothorpe. For each, define only one method: eats(). This should return 'berries' (Bear), 'clover' (Rabbit), or 'campers' (Octothorpe). Create one object from each and print what it eats."
   ]
  },
  {
   "cell_type": "markdown",
   "id": "ab9b5196",
   "metadata": {},
   "source": [
    "**Ans:**"
   ]
  },
  {
   "cell_type": "code",
   "execution_count": 9,
   "id": "002a071c",
   "metadata": {},
   "outputs": [
    {
     "name": "stdout",
     "output_type": "stream",
     "text": [
      "berries\n",
      "clover\n",
      "campers\n"
     ]
    }
   ],
   "source": [
    "class Bear:\n",
    "    def eats(self):\n",
    "        print (\"berries\")\n",
    "    \n",
    "class Rabbit:\n",
    "    def eats(self):\n",
    "        print (\"clover\")\n",
    "    \n",
    "class Octothorpe:\n",
    "    def eats(self):\n",
    "        print (\"campers\")\n",
    "    \n",
    "bear = Bear()\n",
    "rabbit = Rabbit()\n",
    "octothorpe = Octothorpe()\n",
    "\n",
    "bear.eats()\n",
    "rabbit.eats()\n",
    "octothorpe.eats()"
   ]
  },
  {
   "cell_type": "markdown",
   "id": "2d78a234",
   "metadata": {},
   "source": [
    "#### 10. Define these classes: Laser, Claw, and SmartPhone. Each has only one method: does(). This returns 'disintegrate' (Laser), 'crush' (Claw), or 'ring' (SmartPhone). Then, define the class Robot that has one instance (object) of each of these. Define a does() method for the Robot that prints what its component objects do."
   ]
  },
  {
   "cell_type": "markdown",
   "id": "d9501355",
   "metadata": {},
   "source": [
    "**Ans:**"
   ]
  },
  {
   "cell_type": "code",
   "execution_count": 10,
   "id": "afcfb45b",
   "metadata": {},
   "outputs": [
    {
     "name": "stdout",
     "output_type": "stream",
     "text": [
      "disintegrate crush ring\n"
     ]
    }
   ],
   "source": [
    "class Laser:\n",
    "    def does(self):\n",
    "        return 'disintegrate'\n",
    "    \n",
    "class Claw:\n",
    "    def does(self):\n",
    "        return 'crush'\n",
    "    \n",
    "class SmartPhone:\n",
    "    def does(self):\n",
    "        return 'ring'\n",
    "        \n",
    "class Robot:\n",
    "    def __init__(self):\n",
    "        self.laser = Laser()\n",
    "        self.claw = Claw()\n",
    "        self.smartphone = SmartPhone()\n",
    "    def does(self):\n",
    "        print(self.laser.does(),self.claw.does(),self.smartphone.does())\n",
    "        \n",
    "robo = Robot()\n",
    "robo.does()"
   ]
  },
  {
   "cell_type": "code",
   "execution_count": null,
   "id": "afae9ec4",
   "metadata": {},
   "outputs": [],
   "source": []
  }
 ],
 "metadata": {
  "kernelspec": {
   "display_name": "Python 3 (ipykernel)",
   "language": "python",
   "name": "python3"
  },
  "language_info": {
   "codemirror_mode": {
    "name": "ipython",
    "version": 3
   },
   "file_extension": ".py",
   "mimetype": "text/x-python",
   "name": "python",
   "nbconvert_exporter": "python",
   "pygments_lexer": "ipython3",
   "version": "3.9.7"
  }
 },
 "nbformat": 4,
 "nbformat_minor": 5
}
