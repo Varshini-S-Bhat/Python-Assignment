{
 "cells": [
  {
   "cell_type": "markdown",
   "id": "9a8af687",
   "metadata": {},
   "source": [
    "#### 1. How do you distinguish between shutil.copy() and shutil.copytree()?"
   ]
  },
  {
   "cell_type": "markdown",
   "id": "b87c6df4",
   "metadata": {},
   "source": [
    "**Ans:** \n",
    "\n",
    "`Shutil.copytree()` will copy entire folder like branches of trees including all files in it.\n",
    "\n",
    "`Shutil.copy()` will copy only single folder"
   ]
  },
  {
   "cell_type": "markdown",
   "id": "678b3546",
   "metadata": {},
   "source": [
    "#### 2. What function is used to rename files??"
   ]
  },
  {
   "cell_type": "markdown",
   "id": "065f1124",
   "metadata": {},
   "source": [
    "**Ans:** \n",
    "\n",
    "First import os module then use os.rename() to rename a file.\n",
    "\n",
    "OR\n",
    "\n",
    "The shutil.move() function is used for renaming files, as well as moving them."
   ]
  },
  {
   "cell_type": "markdown",
   "id": "cb02912e",
   "metadata": {},
   "source": [
    "#### 3. What is the difference between the delete functions in the send2trash and shutil modules?"
   ]
  },
  {
   "cell_type": "markdown",
   "id": "31d4fcd3",
   "metadata": {},
   "source": [
    "**Ans:** The send2trash function will move a file or folder to the recyle bin,while shutil fucntion will permanently delete files and folders."
   ]
  },
  {
   "cell_type": "markdown",
   "id": "75cd25ed",
   "metadata": {},
   "source": [
    "#### 4.ZipFile objects have a close() method just like File objects’ close() method. What ZipFile method is equivalent to File objects’ open() method?"
   ]
  },
  {
   "cell_type": "markdown",
   "id": "ddabecb4",
   "metadata": {},
   "source": [
    "**Ans:** The `zipfile.ZipFile()` function is equivalent to the `open()` function, the first argument is the filename, and the second argument is the mode to opem the ZIP file in(read,write or append)"
   ]
  },
  {
   "cell_type": "code",
   "execution_count": 1,
   "id": "b478aa23",
   "metadata": {},
   "outputs": [],
   "source": [
    "import zipfile as zf\n",
    "a = zf.ZipFile(\"xyz.zip\",'w')\n",
    "a.close()"
   ]
  },
  {
   "cell_type": "markdown",
   "id": "e8bfdaf4",
   "metadata": {},
   "source": [
    "#### 5. Create a programme that searches a folder tree for files with a certain file extension (such as .pdf or .jpg). Copy these files from whatever location they are in to a new folder."
   ]
  },
  {
   "cell_type": "markdown",
   "id": "51c187bd",
   "metadata": {},
   "source": [
    "**Ans:**"
   ]
  },
  {
   "cell_type": "code",
   "execution_count": 2,
   "id": "4990f315",
   "metadata": {},
   "outputs": [
    {
     "name": "stdout",
     "output_type": "stream",
     "text": [
      "searching --> C:\\Users\\vys\\Documents\\FILES for ['.pdf', '.jpg'] file\n",
      "copying C:\\Users\\vys\\Documents\\FILES\\ParaViewTutorial.pdf to C:\\Users\\vys\\Documents\\testcopy\n"
     ]
    }
   ],
   "source": [
    "import os, shutil\n",
    "\n",
    "def search_and_copy(source, extensions, destination):\n",
    "    source = os.path.abspath(folder)\n",
    "    destination = os.path.abspath(destFolder)\n",
    "    print('searching --> {} for {} file'.format(folder,extensions))\n",
    "    for foldername, subfolders, filenames in os.walk(folder):\n",
    "        for filename in filenames:\n",
    "            name, extension = os.path.splitext(filename)\n",
    "            if extension in extensions:\n",
    "                fileAbsPath = foldername + os.path.sep + filename\n",
    "                print('copying',fileAbsPath, 'to', destFolder)\n",
    "                shutil.copy(fileAbsPath,destFolder)\n",
    "extensions = ['.pdf','.jpg']\n",
    "folder = (r'C:\\Users\\vys\\Documents\\FILES')\n",
    "destFolder =(r'C:\\Users\\vys\\Documents\\testcopy')\n",
    "search_and_copy(folder, extensions, destFolder)"
   ]
  },
  {
   "cell_type": "code",
   "execution_count": null,
   "id": "c3239e61",
   "metadata": {},
   "outputs": [],
   "source": []
  }
 ],
 "metadata": {
  "kernelspec": {
   "display_name": "Python 3 (ipykernel)",
   "language": "python",
   "name": "python3"
  },
  "language_info": {
   "codemirror_mode": {
    "name": "ipython",
    "version": 3
   },
   "file_extension": ".py",
   "mimetype": "text/x-python",
   "name": "python",
   "nbconvert_exporter": "python",
   "pygments_lexer": "ipython3",
   "version": "3.9.7"
  }
 },
 "nbformat": 4,
 "nbformat_minor": 5
}
