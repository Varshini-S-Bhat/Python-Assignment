{
 "cells": [
  {
   "cell_type": "markdown",
   "id": "28866701",
   "metadata": {},
   "source": [
    "#### 1. What does an empty dictionary's code look like?"
   ]
  },
  {
   "cell_type": "markdown",
   "id": "dfadcd06",
   "metadata": {},
   "source": [
    "**Ans:** An empty dictionary is often represented by two empty curly brackets.\n",
    "\n",
    "`my_dictionary = {}`\n",
    "\n",
    "Another way of creating an empty dictionary is to use the dict() function without passing any arguments.\n",
    "\n",
    "`my_dictionary = dict()`"
   ]
  },
  {
   "cell_type": "markdown",
   "id": "8d70e505",
   "metadata": {},
   "source": [
    "#### 2. What is the value of a dictionary value with the key 'foo' and the value 42?"
   ]
  },
  {
   "cell_type": "markdown",
   "id": "5b8cb940",
   "metadata": {},
   "source": [
    "**Ans:** `{'foo': 42}`"
   ]
  },
  {
   "cell_type": "markdown",
   "id": "4c521356",
   "metadata": {},
   "source": [
    "#### 3. What is the most significant distinction between a dictionary and a list?"
   ]
  },
  {
   "cell_type": "markdown",
   "id": "78550acd",
   "metadata": {},
   "source": [
    "**Ans:** A list is an ordered sequence of objects which is represented by `[]`, whereas dictionaries are unordered sets represented by `{}`. However, the main difference is that items in dictionaries are accessed via keys and not via their position."
   ]
  },
  {
   "cell_type": "markdown",
   "id": "f1a90040",
   "metadata": {},
   "source": [
    "#### 4. What happens if you try to access spam['foo'] if spam is {'bar': 100}?"
   ]
  },
  {
   "cell_type": "markdown",
   "id": "63633068",
   "metadata": {},
   "source": [
    "**Ans:** We will get a keyError `KeyError: 'foo'`"
   ]
  },
  {
   "cell_type": "markdown",
   "id": "b475fb49",
   "metadata": {},
   "source": [
    "#### 5. If a dictionary is stored in spam, what is the difference between the expressions 'cat' in spam and 'cat' in spam.keys()?"
   ]
  },
  {
   "cell_type": "markdown",
   "id": "8b2bdf05",
   "metadata": {},
   "source": [
    "**Ans:** There is no difference . The operator checks whether a value exits as a key in the dictionary or not"
   ]
  },
  {
   "cell_type": "markdown",
   "id": "d23a965c",
   "metadata": {},
   "source": [
    "#### 6. If a dictionary is stored in spam, what is the difference between the expressions 'cat' in spam and 'cat' in spam.values()?"
   ]
  },
  {
   "cell_type": "markdown",
   "id": "2a4f0591",
   "metadata": {},
   "source": [
    "**Ans:** 'cat' in spam checks whether there is a 'cat' key in the dictionary, while 'cat' in spam.values() checks whether there is a value 'cat' for one of the keys in spam."
   ]
  },
  {
   "cell_type": "markdown",
   "id": "45ccc6cd",
   "metadata": {},
   "source": [
    "#### 7. What is a shortcut for the following code?\n",
    "if 'color' not in spam:\n",
    "\n",
    "spam['color'] = 'black'\n"
   ]
  },
  {
   "cell_type": "markdown",
   "id": "c48c0746",
   "metadata": {},
   "source": [
    "**Ans:** `spam.setdefault('color', 'black')`"
   ]
  },
  {
   "cell_type": "markdown",
   "id": "50cb06d9",
   "metadata": {},
   "source": [
    "#### 8. How do you \"pretty print\" dictionary values using which module and function?"
   ]
  },
  {
   "cell_type": "markdown",
   "id": "88be3928",
   "metadata": {},
   "source": [
    "**Ans:** \n",
    "module = pprint\n",
    "\n",
    "function = pprint.pprint()"
   ]
  }
 ],
 "metadata": {
  "kernelspec": {
   "display_name": "Python 3 (ipykernel)",
   "language": "python",
   "name": "python3"
  },
  "language_info": {
   "codemirror_mode": {
    "name": "ipython",
    "version": 3
   },
   "file_extension": ".py",
   "mimetype": "text/x-python",
   "name": "python",
   "nbconvert_exporter": "python",
   "pygments_lexer": "ipython3",
   "version": "3.9.12"
  }
 },
 "nbformat": 4,
 "nbformat_minor": 5
}
