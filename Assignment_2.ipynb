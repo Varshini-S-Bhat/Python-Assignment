{
 "cells": [
  {
   "cell_type": "markdown",
   "id": "8b3e7c1d",
   "metadata": {},
   "source": [
    "1.What are the two values of the Boolean data type? How do you write them?"
   ]
  },
  {
   "cell_type": "markdown",
   "id": "d45cdfb3",
   "metadata": {},
   "source": [
    "Answer:-\n",
    "Two types of the Boolean data types are True and False.We write them as True and False."
   ]
  },
  {
   "cell_type": "markdown",
   "id": "b2e056f5",
   "metadata": {},
   "source": [
    "2.What are the three different types of Boolean operators?"
   ]
  },
  {
   "cell_type": "markdown",
   "id": "f9306fee",
   "metadata": {},
   "source": [
    "Answer:-\n",
    "The three Boolean operators are \"and\",\"or\" and \"not\"."
   ]
  },
  {
   "cell_type": "markdown",
   "id": "03ac4528",
   "metadata": {},
   "source": [
    "3.Make a list of each Boolean operator's truth tables (i.e. every possible combination of Boolean values for the operator and what it evaluate )."
   ]
  },
  {
   "cell_type": "markdown",
   "id": "1a0d27f7",
   "metadata": {},
   "source": [
    "Answer:-\n",
    "\n",
    "True and True is True.\n",
    "\n",
    "True and False is False.\n",
    "\n",
    "False and True is False.\n",
    "\n",
    "False and False is False.\n",
    "\n",
    "True or True is True.\n",
    "\n",
    "True or False is True.\n",
    "\n",
    "False or True is True.\n",
    "\n",
    "False or False is False.\n",
    "\n",
    "not True is False.\n",
    "\n",
    "not False is True."
   ]
  },
  {
   "cell_type": "markdown",
   "id": "952af49c",
   "metadata": {},
   "source": [
    "4.What are the values of the following expressions?"
   ]
  },
  {
   "cell_type": "markdown",
   "id": "0560fd3f",
   "metadata": {},
   "source": [
    "Answer:-\n",
    "\n",
    "(5 > 4) and (3 == 5)  \t: False\n",
    "\n",
    "not (5 > 4)  \t:False\n",
    "\n",
    "(5 > 4) or (3 == 5) \t:True\n",
    "\n",
    "not ((5 > 4) or (3 == 5)) \t\t:False\n",
    "\n",
    "(True and True) and (True == False)  \t:False\n",
    "\n",
    "(not False) or (not True)\t\t:True"
   ]
  },
  {
   "cell_type": "markdown",
   "id": "c7527019",
   "metadata": {},
   "source": [
    "5.What are the six comparison operators?"
   ]
  },
  {
   "cell_type": "markdown",
   "id": "526dd6cd",
   "metadata": {},
   "source": [
    "Answer:-\n",
    "\n",
    "The six comparison operators are \n",
    "\n",
    "1     >\n",
    "\n",
    "2     <\n",
    "\n",
    "3    >=\n",
    "\n",
    "4    <=\n",
    "\n",
    "5    ==\n",
    "\n",
    "6   !="
   ]
  },
  {
   "cell_type": "markdown",
   "id": "8c9a1c8e",
   "metadata": {},
   "source": [
    "6.How do you tell the difference between the equal to and assignment operators?Describe a condition and when you would use one."
   ]
  },
  {
   "cell_type": "markdown",
   "id": "102b5abd",
   "metadata": {},
   "source": [
    "Answer:-\n",
    "\n",
    "= is the assignment operator that stores a value in a variable,== is the equal to operator that compares two values and evaluates to boolean."
   ]
  },
  {
   "cell_type": "markdown",
   "id": "c65e8ffb",
   "metadata": {},
   "source": [
    "7. Identify the three blocks in this code:\n"
   ]
  },
  {
   "cell_type": "markdown",
   "id": "2a4f4381",
   "metadata": {},
   "source": [
    "spam = 0\n",
    "\n",
    "if spam == 10:\n",
    "\n",
    "print('eggs')\n",
    "\n",
    "if spam > 5:\n",
    "\n",
    "print('bacon')\n",
    "\n",
    "else:\n",
    "\n",
    "print('ham')\n",
    "\n",
    "print('spam')\n",
    "\n",
    "print('spam')"
   ]
  },
  {
   "cell_type": "markdown",
   "id": "458806be",
   "metadata": {},
   "source": [
    "Answer:-"
   ]
  },
  {
   "cell_type": "code",
   "execution_count": 1,
   "id": "19f3a7ce",
   "metadata": {},
   "outputs": [
    {
     "name": "stdout",
     "output_type": "stream",
     "text": [
      "ham\n",
      "spam\n",
      "spam\n"
     ]
    }
   ],
   "source": [
    "spam = 0  \n",
    "if spam == 10:  \n",
    "    print('eggs')  # block #1\n",
    "if spam > 5:  \n",
    "    print('bacon')  # block #2\n",
    "else:  \n",
    "    print('ham')  # block #3\n",
    "print('spam')  \n",
    "print('spam')"
   ]
  },
  {
   "cell_type": "markdown",
   "id": "e094a02f",
   "metadata": {},
   "source": [
    "8. Write code that prints Hello if 1 is stored in spam, prints Howdy if 2 is stored in spam, and prints Greetings! if anything else is stored in spam."
   ]
  },
  {
   "cell_type": "markdown",
   "id": "6ca94e14",
   "metadata": {},
   "source": [
    "Answer:-"
   ]
  },
  {
   "cell_type": "code",
   "execution_count": 2,
   "id": "3549be8f",
   "metadata": {},
   "outputs": [
    {
     "name": "stdout",
     "output_type": "stream",
     "text": [
      "Enter a number2\n",
      "Howdy\n"
     ]
    }
   ],
   "source": [
    "spam= int(input(\"Enter a number\"))\n",
    "if spam == 1:\n",
    "    print(\"Hello\")\n",
    "elif spam == 2:\n",
    "    print(\"Howdy\")\n",
    "else :\n",
    "    print(\"Greetings!\")"
   ]
  },
  {
   "cell_type": "markdown",
   "id": "287f5fae",
   "metadata": {},
   "source": [
    "9.If your programme is stuck in an endless loop, what keys you’ll press?"
   ]
  },
  {
   "cell_type": "markdown",
   "id": "5bf7b57d",
   "metadata": {},
   "source": [
    "Answer:-\n",
    "I will press CTRL+C to stop endless loop."
   ]
  },
  {
   "cell_type": "markdown",
   "id": "73037682",
   "metadata": {},
   "source": [
    "10.How can you tell the difference between break and continue?"
   ]
  },
  {
   "cell_type": "markdown",
   "id": "164fbcdf",
   "metadata": {},
   "source": [
    "Answer:-\n",
    "\n",
    "Break:-  It stops the execution of remaining iteration of loop.\n",
    "\n",
    "Continue:- It will terminate only the current iteration of loop and causes the early execution of the next iteration."
   ]
  },
  {
   "cell_type": "markdown",
   "id": "60e0fd20",
   "metadata": {},
   "source": [
    "11.In a for loop, what is the difference between range(10), range(0, 10), and range(0, 10, 1)?"
   ]
  },
  {
   "cell_type": "markdown",
   "id": "16791dd5",
   "metadata": {},
   "source": [
    "Answer:-\n",
    "\n",
    "1.The range(10) call range from 0 to 9 (but not include 10)\n",
    "\n",
    "2.The range (0,10) explicitly tells the loop to start at 0\n",
    "\n",
    "3.The range(0,10,1) explicitly tells the loop to increase the variable by 1 on each iteration\n"
   ]
  },
  {
   "cell_type": "markdown",
   "id": "1f12aaad",
   "metadata": {},
   "source": [
    "12.Write a short program that prints the numbers 1 to 10 using a for loop. Then write an equivalent program that prints the numbers 1 to 10 using a while loop."
   ]
  },
  {
   "cell_type": "markdown",
   "id": "a0453179",
   "metadata": {},
   "source": [
    "Answer:-\n",
    "    \n",
    "Using for loop:-"
   ]
  },
  {
   "cell_type": "code",
   "execution_count": 3,
   "id": "23fd5461",
   "metadata": {},
   "outputs": [
    {
     "name": "stdout",
     "output_type": "stream",
     "text": [
      "1 2 3 4 5 6 7 8 9 10 "
     ]
    }
   ],
   "source": [
    "for i in range(1,11):\n",
    "    print(i, end=\" \")"
   ]
  },
  {
   "cell_type": "markdown",
   "id": "d6f4acad",
   "metadata": {},
   "source": [
    "Using While loop:-"
   ]
  },
  {
   "cell_type": "code",
   "execution_count": 4,
   "id": "fd26fce2",
   "metadata": {},
   "outputs": [
    {
     "name": "stdout",
     "output_type": "stream",
     "text": [
      "1 2 3 4 5 6 7 8 9 10 "
     ]
    }
   ],
   "source": [
    "i=1\n",
    "while i<=10:\n",
    "    print(i, end=\" \")\n",
    "    i+=1"
   ]
  },
  {
   "cell_type": "markdown",
   "id": "19a3b7ec",
   "metadata": {},
   "source": [
    "13. If you had a function named bacon() inside a module named spam, how would you call it after importing spam?"
   ]
  },
  {
   "cell_type": "markdown",
   "id": "c96ceba7",
   "metadata": {},
   "source": [
    "Answer:-"
   ]
  },
  {
   "cell_type": "markdown",
   "id": "2b21c06f",
   "metadata": {},
   "source": [
    "This function can be called with spam.bacon()"
   ]
  }
 ],
 "metadata": {
  "kernelspec": {
   "display_name": "Python 3 (ipykernel)",
   "language": "python",
   "name": "python3"
  },
  "language_info": {
   "codemirror_mode": {
    "name": "ipython",
    "version": 3
   },
   "file_extension": ".py",
   "mimetype": "text/x-python",
   "name": "python",
   "nbconvert_exporter": "python",
   "pygments_lexer": "ipython3",
   "version": "3.9.12"
  }
 },
 "nbformat": 4,
 "nbformat_minor": 5
}
