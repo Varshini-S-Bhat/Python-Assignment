{
 "cells": [
  {
   "cell_type": "markdown",
   "id": "5e326745",
   "metadata": {},
   "source": [
    "#### 1. What are escape characters, and how do you use them?"
   ]
  },
  {
   "cell_type": "markdown",
   "id": "c2b0ab13",
   "metadata": {},
   "source": [
    "**Ans:** To use characters that are illegal in a string we use an escape character. An escape character is a backslash `\\` followed by the character we want to insert."
   ]
  },
  {
   "cell_type": "code",
   "execution_count": 8,
   "id": "787f280c",
   "metadata": {},
   "outputs": [
    {
     "name": "stdout",
     "output_type": "stream",
     "text": [
      "I am learning \"Data science\" from ineuron\n"
     ]
    }
   ],
   "source": [
    "# Example the escape character allows to use double quotes when normally would not be allowed:\n",
    "\n",
    "test =  'I am learning \\\"Data science\\\" from ineuron'\n",
    "print(test)"
   ]
  },
  {
   "cell_type": "markdown",
   "id": "aacce456",
   "metadata": {},
   "source": [
    "#### 2. What do the escape characters n and t stand for?"
   ]
  },
  {
   "cell_type": "markdown",
   "id": "22de2a47",
   "metadata": {},
   "source": [
    "**Ans:** \n",
    "\n",
    "'\\n' stands for newline\n",
    "\n",
    "'\\t' stands for tab space"
   ]
  },
  {
   "cell_type": "code",
   "execution_count": 14,
   "id": "72116555",
   "metadata": {},
   "outputs": [
    {
     "name": "stdout",
     "output_type": "stream",
     "text": [
      "this is first line \n",
      "this is second line\n"
     ]
    }
   ],
   "source": [
    "# Example for \\n\n",
    "\n",
    "t1= \"this is first line \\nthis is second line\"\n",
    "print(t1)"
   ]
  },
  {
   "cell_type": "code",
   "execution_count": 15,
   "id": "b0b99e34",
   "metadata": {},
   "outputs": [
    {
     "name": "stdout",
     "output_type": "stream",
     "text": [
      "this is first line \tthis is second line\n"
     ]
    }
   ],
   "source": [
    "# Example for \\t\n",
    "\n",
    "t2= \"this is first line \\tthis is second line\"\n",
    "print(t2)"
   ]
  },
  {
   "cell_type": "markdown",
   "id": "80aafee7",
   "metadata": {},
   "source": [
    "#### 3. What is the way to include backslash characters in a string?"
   ]
  },
  {
   "cell_type": "markdown",
   "id": "6f6cb2b4",
   "metadata": {},
   "source": [
    "**Ans:** To include backslash character in a string we have to use double backslash."
   ]
  },
  {
   "cell_type": "code",
   "execution_count": 19,
   "id": "74e4d041",
   "metadata": {},
   "outputs": [
    {
     "name": "stdout",
     "output_type": "stream",
     "text": [
      "\"\\\" is the backslash\n"
     ]
    }
   ],
   "source": [
    "t3 = ('\"\\\\\" is the backslash')\n",
    "print(t3)"
   ]
  },
  {
   "cell_type": "markdown",
   "id": "52ea20dd",
   "metadata": {},
   "source": [
    "#### 4. The string \"Howl's Moving Castle\" is a correct value. Why isn't the single quote character in the word Howl's not escaped a problem?"
   ]
  },
  {
   "cell_type": "markdown",
   "id": "5755e807",
   "metadata": {},
   "source": [
    "**Ans:** The single quote in Howl's is fine because you've used double quotes to mark the beginning and end of the string. like wise we can use double quotes in with single quotes."
   ]
  },
  {
   "cell_type": "code",
   "execution_count": 21,
   "id": "102b8ca1",
   "metadata": {},
   "outputs": [
    {
     "name": "stdout",
     "output_type": "stream",
     "text": [
      "Howl's Moving Castle\n"
     ]
    }
   ],
   "source": [
    "t4 = \"Howl's Moving Castle\"\n",
    "print(t4)"
   ]
  },
  {
   "cell_type": "markdown",
   "id": "ff4a1a53",
   "metadata": {},
   "source": [
    "#### 5. How do you write a string of newlines if you don't want to use the n character?"
   ]
  },
  {
   "cell_type": "markdown",
   "id": "c171b84d",
   "metadata": {},
   "source": [
    "**Ans:** "
   ]
  },
  {
   "cell_type": "code",
   "execution_count": 23,
   "id": "a482caad",
   "metadata": {},
   "outputs": [
    {
     "name": "stdout",
     "output_type": "stream",
     "text": [
      "printing something in new line\n",
      "newline\n"
     ]
    }
   ],
   "source": [
    "print(\"printing something in new line\",end = '\\n')\n",
    "print(\"newline\")"
   ]
  },
  {
   "cell_type": "markdown",
   "id": "26fce055",
   "metadata": {},
   "source": [
    "#### 6. What are the values of the given expressions?"
   ]
  },
  {
   "cell_type": "markdown",
   "id": "0a793982",
   "metadata": {},
   "source": [
    "**Ans:**"
   ]
  },
  {
   "cell_type": "code",
   "execution_count": 25,
   "id": "93aaaddc",
   "metadata": {},
   "outputs": [
    {
     "data": {
      "text/plain": [
       "'e'"
      ]
     },
     "execution_count": 25,
     "metadata": {},
     "output_type": "execute_result"
    }
   ],
   "source": [
    "'Hello, world!'[1]"
   ]
  },
  {
   "cell_type": "code",
   "execution_count": 26,
   "id": "5d3a9478",
   "metadata": {},
   "outputs": [
    {
     "data": {
      "text/plain": [
       "'Hello'"
      ]
     },
     "execution_count": 26,
     "metadata": {},
     "output_type": "execute_result"
    }
   ],
   "source": [
    "'Hello, world!'[0:5]"
   ]
  },
  {
   "cell_type": "code",
   "execution_count": 27,
   "id": "6ea8e02f",
   "metadata": {},
   "outputs": [
    {
     "data": {
      "text/plain": [
       "'Hello'"
      ]
     },
     "execution_count": 27,
     "metadata": {},
     "output_type": "execute_result"
    }
   ],
   "source": [
    "'Hello, world!'[:5]"
   ]
  },
  {
   "cell_type": "code",
   "execution_count": 28,
   "id": "c0b85071",
   "metadata": {},
   "outputs": [
    {
     "data": {
      "text/plain": [
       "'lo, world!'"
      ]
     },
     "execution_count": 28,
     "metadata": {},
     "output_type": "execute_result"
    }
   ],
   "source": [
    "'Hello, world!'[3:]"
   ]
  },
  {
   "cell_type": "markdown",
   "id": "4f0a21e3",
   "metadata": {},
   "source": [
    "#### 7. What are the values of the following expressions?"
   ]
  },
  {
   "cell_type": "markdown",
   "id": "79fe0c2f",
   "metadata": {},
   "source": [
    "**Ans:**"
   ]
  },
  {
   "cell_type": "code",
   "execution_count": 29,
   "id": "989e6421",
   "metadata": {},
   "outputs": [
    {
     "data": {
      "text/plain": [
       "'HELLO'"
      ]
     },
     "execution_count": 29,
     "metadata": {},
     "output_type": "execute_result"
    }
   ],
   "source": [
    "'Hello'.upper()"
   ]
  },
  {
   "cell_type": "code",
   "execution_count": 30,
   "id": "578fa00b",
   "metadata": {},
   "outputs": [
    {
     "data": {
      "text/plain": [
       "True"
      ]
     },
     "execution_count": 30,
     "metadata": {},
     "output_type": "execute_result"
    }
   ],
   "source": [
    "'Hello'.upper().isupper()"
   ]
  },
  {
   "cell_type": "code",
   "execution_count": 31,
   "id": "73a2545e",
   "metadata": {},
   "outputs": [
    {
     "data": {
      "text/plain": [
       "'hello'"
      ]
     },
     "execution_count": 31,
     "metadata": {},
     "output_type": "execute_result"
    }
   ],
   "source": [
    "'Hello'.upper().lower()"
   ]
  },
  {
   "cell_type": "markdown",
   "id": "7f54afe7",
   "metadata": {},
   "source": [
    "#### 8. What are the values of the following expressions?"
   ]
  },
  {
   "cell_type": "markdown",
   "id": "9486beee",
   "metadata": {},
   "source": [
    "**Ans:**"
   ]
  },
  {
   "cell_type": "code",
   "execution_count": 32,
   "id": "5391f39f",
   "metadata": {},
   "outputs": [
    {
     "data": {
      "text/plain": [
       "['Remember,', 'remember,', 'the', 'fifth', 'of', 'July.']"
      ]
     },
     "execution_count": 32,
     "metadata": {},
     "output_type": "execute_result"
    }
   ],
   "source": [
    "'Remember, remember, the fifth of July.'.split()"
   ]
  },
  {
   "cell_type": "code",
   "execution_count": 33,
   "id": "e26141c5",
   "metadata": {},
   "outputs": [
    {
     "data": {
      "text/plain": [
       "'There-can-only-one.'"
      ]
     },
     "execution_count": 33,
     "metadata": {},
     "output_type": "execute_result"
    }
   ],
   "source": [
    "'-'.join('There can only one.'.split())"
   ]
  },
  {
   "cell_type": "markdown",
   "id": "fa893943",
   "metadata": {},
   "source": [
    "#### 9. What are the methods for right-justifying, left-justifying, and centering a string?"
   ]
  },
  {
   "cell_type": "markdown",
   "id": "40be92be",
   "metadata": {},
   "source": [
    "**Ans:**"
   ]
  },
  {
   "cell_type": "code",
   "execution_count": 34,
   "id": "acf86f00",
   "metadata": {},
   "outputs": [
    {
     "data": {
      "text/plain": [
       "'Ineuron---'"
      ]
     },
     "execution_count": 34,
     "metadata": {},
     "output_type": "execute_result"
    }
   ],
   "source": [
    "# left justified\n",
    "str =\"Ineuron\"\n",
    "str.ljust(10,\"-\")"
   ]
  },
  {
   "cell_type": "code",
   "execution_count": 36,
   "id": "257fd184",
   "metadata": {},
   "outputs": [
    {
     "data": {
      "text/plain": [
       "'****************************Data science'"
      ]
     },
     "execution_count": 36,
     "metadata": {},
     "output_type": "execute_result"
    }
   ],
   "source": [
    "# right justified\n",
    "str =\"Data science\"\n",
    "str.rjust(40,'*')"
   ]
  },
  {
   "cell_type": "code",
   "execution_count": 37,
   "id": "a8c4fb22",
   "metadata": {},
   "outputs": [
    {
     "data": {
      "text/plain": [
       "'**************Data Science**************'"
      ]
     },
     "execution_count": 37,
     "metadata": {},
     "output_type": "execute_result"
    }
   ],
   "source": [
    "# center justified\n",
    "str =\"Data Science\"\n",
    "str.center(40,'*')"
   ]
  },
  {
   "cell_type": "markdown",
   "id": "05abe397",
   "metadata": {},
   "source": [
    "#### 10. What is the best way to remove whitespace characters from the start or end?"
   ]
  },
  {
   "cell_type": "markdown",
   "id": "23944d5e",
   "metadata": {},
   "source": [
    "**Ans:** "
   ]
  },
  {
   "cell_type": "code",
   "execution_count": 43,
   "id": "07573505",
   "metadata": {},
   "outputs": [
    {
     "data": {
      "text/plain": [
       "'Data science  '"
      ]
     },
     "execution_count": 43,
     "metadata": {},
     "output_type": "execute_result"
    }
   ],
   "source": [
    "str =\"  Data science  \" \n",
    "str.lstrip()            # to remove white space from start"
   ]
  },
  {
   "cell_type": "code",
   "execution_count": 42,
   "id": "d3913dc0",
   "metadata": {},
   "outputs": [
    {
     "data": {
      "text/plain": [
       "'  Data science'"
      ]
     },
     "execution_count": 42,
     "metadata": {},
     "output_type": "execute_result"
    }
   ],
   "source": [
    "str =\"  Data science  \" \n",
    "str.rstrip()            # to remove white space from end"
   ]
  }
 ],
 "metadata": {
  "kernelspec": {
   "display_name": "Python 3 (ipykernel)",
   "language": "python",
   "name": "python3"
  },
  "language_info": {
   "codemirror_mode": {
    "name": "ipython",
    "version": 3
   },
   "file_extension": ".py",
   "mimetype": "text/x-python",
   "name": "python",
   "nbconvert_exporter": "python",
   "pygments_lexer": "ipython3",
   "version": "3.9.12"
  }
 },
 "nbformat": 4,
 "nbformat_minor": 5
}
